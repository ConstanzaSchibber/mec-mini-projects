{
 "cells": [
  {
   "attachments": {},
   "cell_type": "markdown",
   "metadata": {},
   "source": [
    "For this exercise I pull some data from https://data.nasdaq.com/ (formerly Quandl API)."
   ]
  },
  {
   "attachments": {},
   "cell_type": "markdown",
   "metadata": {},
   "source": [
    "I registered for a free account on the https://data.nasdaq.com/ website."
   ]
  },
  {
   "attachments": {},
   "cell_type": "markdown",
   "metadata": {},
   "source": [
    "Afterwards, I received a unique API key, that I stored in a `.env` file. The library `python-dotenv` is required to access it in this notebook. The assignment indicated to never submit keys to source control so I make sure to have a `.gitignore` file with a line for `.env` added to it. "
   ]
  },
  {
   "cell_type": "code",
   "execution_count": 5,
   "metadata": {},
   "outputs": [
    {
     "name": "stdout",
     "output_type": "stream",
     "text": [
      "T7zoFaLjGTvxqunQR2Ei\n"
     ]
    }
   ],
   "source": [
    "# get api key from your .env file\n",
    "import os\n",
    "from dotenv import load_dotenv  # if missing this module, simply run `pip install python-dotenv`\n",
    "\n",
    "load_dotenv()\n",
    "API_KEY = os.getenv('NASDAQ_API_KEY')\n",
    "\n",
    "print(API_KEY)"
   ]
  },
  {
   "cell_type": "markdown",
   "metadata": {},
   "source": [
    "Nasdaq Data has a large number of data sources, but, unfortunately, most of them require a Premium subscription. Still, there are also a good number of free datasets."
   ]
  },
  {
   "cell_type": "markdown",
   "metadata": {},
   "source": [
    "For this mini project, we will focus on equities data from the Frankfurt Stock Exhange (FSE), which is available for free. We'll try and analyze the stock prices of a company called Carl Zeiss Meditec, which manufactures tools for eye examinations, as well as medical lasers for laser eye surgery: https://www.zeiss.com/meditec/int/home.html. The company is listed under the stock ticker AFX_X."
   ]
  },
  {
   "cell_type": "markdown",
   "metadata": {},
   "source": [
    "You can find the detailed Nasdaq Data API instructions here: https://docs.data.nasdaq.com/docs/in-depth-usage"
   ]
  },
  {
   "cell_type": "markdown",
   "metadata": {},
   "source": [
    "While there is a dedicated Python package for connecting to the Nasdaq API, we would prefer that you use the *requests* package, which can be easily downloaded using *pip* or *conda*. You can find the documentation for the package here: http://docs.python-requests.org/en/master/ "
   ]
  },
  {
   "cell_type": "markdown",
   "metadata": {},
   "source": [
    "Keep in mind that the JSON responses you will be getting from the API map almost one-to-one to Python's dictionaries. Unfortunately, they can be very nested, so make sure you read up on indexing dictionaries in the documentation provided above."
   ]
  },
  {
   "cell_type": "code",
   "execution_count": 6,
   "metadata": {},
   "outputs": [],
   "source": [
    "# First, import the relevant modules\n",
    "import requests\n",
    "import pandas as pd"
   ]
  },
  {
   "attachments": {},
   "cell_type": "markdown",
   "metadata": {},
   "source": [
    "I used the nasdaq api at `https://data.nasdaq.com/api/v3/`. The relevant paremeters for the API are here https://docs.data.nasdaq.com/docs/parameters-2\n",
    "\n",
    "We are looking for the `AFX_X` data on the `datasets/FSE/` dataset.\n",
    "\n",
    "Below I modified the link to the API to retrieve the time period and the stock required for this exercise."
   ]
  },
  {
   "cell_type": "code",
   "execution_count": 11,
   "metadata": {},
   "outputs": [],
   "source": [
    "# Now, call the Nasdaq API and pull out a small sampe of the data (only one day) to get a glimpse\n",
    "# I return data for 2017 as specified in exercise 1 of the assignment\n",
    "# into the JSON structure that will be returned\n",
    "TICKER = \"AFX_X\"\n",
    "start_date = '2017-01-01'\n",
    "end_date = '2017-12-31'\n",
    "URL_nasdaq = \"https://data.nasdaq.com/api/v3/datasets/FSE/AFX_X.json?start_date=\" + start_date + \"&end_date=\" + end_date + \"&api_key=\" + API_KEY\n",
    "data = requests.get(URL_nasdaq)\n"
   ]
  },
  {
   "attachments": {},
   "cell_type": "markdown",
   "metadata": {},
   "source": [
    "The JSON file is structured as a Python dictionary. The file has more information than we need, so I take the section I need and turn it into a data frame using Pandas."
   ]
  },
  {
   "cell_type": "code",
   "execution_count": 27,
   "metadata": {},
   "outputs": [
    {
     "name": "stdout",
     "output_type": "stream",
     "text": [
      "         Date   Open   High    Low  Close  Change  Traded Volume   Turnover  \\\n",
      "0  2017-12-29  51.76  51.94  51.45  51.76     NaN        34640.0  1792304.0   \n",
      "1  2017-12-28  51.65  51.82  51.43  51.60     NaN        40660.0  2099024.0   \n",
      "2  2017-12-27  51.45  51.89  50.76  51.82     NaN        57452.0  2957018.0   \n",
      "3  2017-12-22  51.05  51.50  50.92  51.32     NaN        71165.0  3641949.0   \n",
      "4  2017-12-21  51.16  51.52  50.90  51.40     NaN       120649.0  6179433.0   \n",
      "\n",
      "  Last Price of the Day Daily Traded Units Daily Turnover  \n",
      "0                  None               None           None  \n",
      "1                  None               None           None  \n",
      "2                  None               None           None  \n",
      "3                  None               None           None  \n",
      "4                  None               None           None  \n",
      "['Date', 'Open', 'High', 'Low', 'Close', 'Change', 'Traded Volume', 'Turnover', 'Last Price of the Day', 'Daily Traded Units', 'Daily Turnover']\n"
     ]
    }
   ],
   "source": [
    "# Inspect the JSON structure of the object you created, and take note of how nested it is,\n",
    "# as well as the overall structure\n",
    "data_dict = data.json()\n",
    "#print(data_dict)\n",
    "\n",
    "# I turn data structure (dictionary) into a data frame\n",
    "col_names_nasdaq = data_dict['dataset']['column_names']\n",
    "dict_values_nasdaq = data_dict['dataset']['data']\n",
    "nasdaq_df = pd.DataFrame(dict_values_nasdaq, columns = col_names_nasdaq)\n",
    "\n",
    "print(nasdaq_df.head())\n",
    "print(col_names_nasdaq)"
   ]
  },
  {
   "cell_type": "markdown",
   "metadata": {},
   "source": [
    "These are your tasks for this mini project:\n",
    "\n",
    "1. Collect data from the Franfurt Stock Exchange, for the ticker AFX_X, for the whole year 2017 (keep in mind that the date format is YYYY-MM-DD).\n",
    "2. Convert the returned JSON object into a Python dictionary.\n",
    "3. Calculate what the highest and lowest opening prices were for the stock in this period.\n",
    "4. What was the largest change in any one day (based on High and Low price)?\n",
    "5. What was the largest change between any two days (based on Closing Price)?\n",
    "6. What was the average daily trading volume during this year?\n",
    "7. (Optional) What was the median trading volume during this year. (Note: you may need to implement your own function for calculating the median.)"
   ]
  },
  {
   "cell_type": "code",
   "execution_count": 28,
   "metadata": {},
   "outputs": [
    {
     "name": "stdout",
     "output_type": "stream",
     "text": [
      "Highest opening stock price: 53.11\n",
      "Lowest opening stock price: 34.0\n"
     ]
    }
   ],
   "source": [
    "# Exercise 3 - Calculate the highest and lowest opening prices for the stock in this period\n",
    "print('Highest opening stock price: ' + str(nasdaq_df['Open'].max()))\n",
    "print('Lowest opening stock price: ' + str(nasdaq_df['Open'].min()))\n"
   ]
  },
  {
   "cell_type": "code",
   "execution_count": 29,
   "metadata": {},
   "outputs": [
    {
     "name": "stdout",
     "output_type": "stream",
     "text": [
      "Largest increase in price stock in a day: 2.81\n",
      "Largest decrease in price stock in a day: 0.19\n",
      "Largest % change in price stock in a day: 6 %\n"
     ]
    }
   ],
   "source": [
    "# Exercise 4 - Calculate largest change in any one day based on High & Low price\n",
    "nasdaq_df['Diff_daily'] = nasdaq_df['High'] - nasdaq_df['Low']\n",
    "print('Largest increase in price stock in a day: ' + str(round(nasdaq_df['Diff_daily'].max(), 4)))\n",
    "print('Largest decrease in price stock in a day: ' + str(round(nasdaq_df['Diff_daily'].min(), 4)))\n",
    "nasdaq_df['Change_daily'] = abs(nasdaq_df['High'] - nasdaq_df['Low'])/nasdaq_df['Low']*100\n",
    "print('Largest % change in price stock in a day: ' + str(round(nasdaq_df['Change_daily'].max())) + ' %')\n"
   ]
  },
  {
   "cell_type": "code",
   "execution_count": 30,
   "metadata": {},
   "outputs": [
    {
     "name": "stdout",
     "output_type": "stream",
     "text": [
      "Largest difference in stock price between two days: 1.78\n",
      "Largest % change in stock price between two days: 9.281 %\n"
     ]
    }
   ],
   "source": [
    "# Exercise 5 - Calculate largest change in stock price between any two days (based on Closing price)\n",
    "diff_between_days = []\n",
    "change_between_days = []\n",
    "\n",
    "for i in range(0, len(nasdaq_df.index)-1):\n",
    "    diff = nasdaq_df['Open'][i] - nasdaq_df['Open'][i+1]\n",
    "    change = abs(nasdaq_df['Open'][i+1] - nasdaq_df['Open'][i])/nasdaq_df['Open'][i]*100\n",
    "    diff_between_days.append(diff)\n",
    "    change_between_days.append(change)\n",
    "\n",
    "print('Largest difference in stock price between two days: ' + str(round(max(diff_between_days),4)))\n",
    "print('Largest % change in stock price between two days: ' + str(round(max(change_between_days),4)) + ' %')\n"
   ]
  },
  {
   "cell_type": "code",
   "execution_count": 31,
   "metadata": {},
   "outputs": [
    {
     "name": "stdout",
     "output_type": "stream",
     "text": [
      "Average trading volume: 89124.3373\n",
      "Average trading volume (calculate by pandas): 89124.3373\n"
     ]
    }
   ],
   "source": [
    "# Exercise 6 - Calculate average trading volume\n",
    "avg_vol = sum(nasdaq_df['Traded Volume'])/len(nasdaq_df.index)\n",
    "\n",
    "print('Average trading volume: ' + str(round(avg_vol,4)))\n",
    "print('Average trading volume (calculate by pandas): ' + str(round(nasdaq_df['Traded Volume'].mean(), 4)))"
   ]
  },
  {
   "cell_type": "code",
   "execution_count": 32,
   "metadata": {},
   "outputs": [
    {
     "name": "stdout",
     "output_type": "stream",
     "text": [
      "Median trading value with original function: 76286.0\n",
      "Median trading value with pandas: 76286.0\n"
     ]
    }
   ],
   "source": [
    "# Exercise 6 - Calculate median trading volume\n",
    "def median_original(x):\n",
    "    x_sorted = sorted(x)\n",
    "    index_len = len(x.index)\n",
    "    if index_len % 2 == 0:\n",
    "        index_1 = index_len//2\n",
    "        index_2 = index_len//2 + 1\n",
    "        y = (x_sorted[index_1] + x_sorted[index_2])/2\n",
    "    else:\n",
    "        index_3 = index_len//2\n",
    "        y = x_sorted[index_3]\n",
    "    return(y)\n",
    "\n",
    "print('Median trading value with original function: ' + str(median_original(nasdaq_df['Traded Volume'])))\n",
    "print('Median trading value with pandas: ' + str(nasdaq_df['Traded Volume'].median()))\n"
   ]
  }
 ],
 "metadata": {
  "interpreter": {
   "hash": "4885f37acae9217c235118400878352aafa7b76e66df698a1f601374f86939a7"
  },
  "kernelspec": {
   "display_name": "Python 3.7.9 64-bit ('springboard': conda)",
   "name": "python3"
  },
  "language_info": {
   "codemirror_mode": {
    "name": "ipython",
    "version": 3
   },
   "file_extension": ".py",
   "mimetype": "text/x-python",
   "name": "python",
   "nbconvert_exporter": "python",
   "pygments_lexer": "ipython3",
   "version": "3.7.5"
  }
 },
 "nbformat": 4,
 "nbformat_minor": 4
}
