{
 "cells": [
  {
   "cell_type": "markdown",
   "metadata": {
    "application/vnd.databricks.v1+cell": {
     "cellMetadata": {},
     "inputWidgets": {},
     "nuid": "ca6f2acf-0f9a-4247-a07e-dfcd2f8dab77",
     "showTitle": false,
     "title": ""
    }
   },
   "source": [
    "## Exercise Overview: Spark ML (Solved!)\n",
    "In this exercise we will play with Spark [Datasets & Dataframes](https://spark.apache.org/docs/latest/sql-programming-guide.html#datasets-and-dataframes), some [Spark SQL](https://spark.apache.org/docs/latest/sql-programming-guide.html#sql), and build a couple of binary classifiaction models using [Spark ML](https://spark.apache.org/docs/latest/ml-guide.html) (with some [MLlib](https://spark.apache.org/mllib/) too). \n",
    "<br><br>\n",
    "The set up and approach will not be too dissimilar to the standard type of approach you might do in [Sklearn](http://scikit-learn.org/stable/index.html). Spark has matured to the stage now where for 90% of what you need to do (when analysing tabular data) should be possible with Spark dataframes, SQL, and ML libraries. This is where this exercise is mainly trying to focus.  \n",
    "<br>\n",
    "Feel free to adapt this exercise to play with other datasets readily availabe in the Databricks enviornment (they are listed in a cell below). \n",
    "\n",
    "##### Getting Started\n",
    "To get started you will need to create and attach a databricks spark cluster to this notebook. This notebook was developed on a cluster created with: \n",
    "- Databricks Runtime Version 4.0 (includes Apache Spark 2.3.0, Scala 2.11)\n",
    "- Python Version 3\n",
    "\n",
    "##### Links & References\n",
    "\n",
    "Some useful links and references of sources used in creating this exercise:\n",
    "\n",
    "**Note**: Right click and open as new tab!\n",
    "<br>\n",
    "1. [Latest Spark Docs](https://spark.apache.org/docs/latest/index.html)\n",
    "1. [Databricks Homepage](https://databricks.com/)\n",
    "1. [Databricks Community Edition FAQ](https://databricks.com/product/faq/community-edition)\n",
    "1. [Databricks Self Paced Training](https://databricks.com/training-overview/training-self-paced)\n",
    "1. [Databricks Notebook Guide](https://docs.databricks.com/user-guide/notebooks/index.html)\n",
    "1. [Databricks Binary Classification Tutorial](https://docs.databricks.com/spark/latest/mllib/binary-classification-mllib-pipelines.html#binary-classification)"
   ]
  },
  {
   "cell_type": "markdown",
   "metadata": {
    "application/vnd.databricks.v1+cell": {
     "cellMetadata": {},
     "inputWidgets": {},
     "nuid": "14f14fa6-4d8e-4bde-a262-1949389fd71c",
     "showTitle": false,
     "title": ""
    }
   },
   "source": [
    "#### Get Data\n",
    "\n",
    "Here we will pull in some sample data that is already pre-loaded onto all databricks clusters.\n",
    "\n",
    "Feel free to adapt this notebook later to play around with a different dataset if you like (all available are listed in a cell below)."
   ]
  },
  {
   "cell_type": "code",
   "execution_count": 0,
   "metadata": {
    "application/vnd.databricks.v1+cell": {
     "cellMetadata": {
      "byteLimit": 2048000,
      "rowLimit": 10000
     },
     "inputWidgets": {},
     "nuid": "72134a8c-ecd6-4c36-924a-a5ab57972466",
     "showTitle": false,
     "title": ""
    }
   },
   "outputs": [
    {
     "output_type": "display_data",
     "data": {
      "text/html": [
       "<style scoped>\n",
       "  .table-result-container {\n",
       "    max-height: 300px;\n",
       "    overflow: auto;\n",
       "  }\n",
       "  table, th, td {\n",
       "    border: 1px solid black;\n",
       "    border-collapse: collapse;\n",
       "  }\n",
       "  th, td {\n",
       "    padding: 5px;\n",
       "  }\n",
       "  th {\n",
       "    text-align: left;\n",
       "  }\n",
       "</style><div class='table-result-container'><table class='table-result'><thead style='background-color: white'><tr><th>path</th><th>name</th><th>size</th><th>modificationTime</th></tr></thead><tbody><tr><td>dbfs:/databricks-datasets/COVID/</td><td>COVID/</td><td>0</td><td>0</td></tr><tr><td>dbfs:/databricks-datasets/README.md</td><td>README.md</td><td>976</td><td>1532468253000</td></tr><tr><td>dbfs:/databricks-datasets/Rdatasets/</td><td>Rdatasets/</td><td>0</td><td>0</td></tr><tr><td>dbfs:/databricks-datasets/SPARK_README.md</td><td>SPARK_README.md</td><td>3359</td><td>1455043490000</td></tr><tr><td>dbfs:/databricks-datasets/adult/</td><td>adult/</td><td>0</td><td>0</td></tr><tr><td>dbfs:/databricks-datasets/airlines/</td><td>airlines/</td><td>0</td><td>0</td></tr><tr><td>dbfs:/databricks-datasets/amazon/</td><td>amazon/</td><td>0</td><td>0</td></tr><tr><td>dbfs:/databricks-datasets/asa/</td><td>asa/</td><td>0</td><td>0</td></tr><tr><td>dbfs:/databricks-datasets/atlas_higgs/</td><td>atlas_higgs/</td><td>0</td><td>0</td></tr><tr><td>dbfs:/databricks-datasets/bikeSharing/</td><td>bikeSharing/</td><td>0</td><td>0</td></tr><tr><td>dbfs:/databricks-datasets/cctvVideos/</td><td>cctvVideos/</td><td>0</td><td>0</td></tr><tr><td>dbfs:/databricks-datasets/credit-card-fraud/</td><td>credit-card-fraud/</td><td>0</td><td>0</td></tr><tr><td>dbfs:/databricks-datasets/cs100/</td><td>cs100/</td><td>0</td><td>0</td></tr><tr><td>dbfs:/databricks-datasets/cs110x/</td><td>cs110x/</td><td>0</td><td>0</td></tr><tr><td>dbfs:/databricks-datasets/cs190/</td><td>cs190/</td><td>0</td><td>0</td></tr><tr><td>dbfs:/databricks-datasets/data.gov/</td><td>data.gov/</td><td>0</td><td>0</td></tr><tr><td>dbfs:/databricks-datasets/definitive-guide/</td><td>definitive-guide/</td><td>0</td><td>0</td></tr><tr><td>dbfs:/databricks-datasets/delta-sharing/</td><td>delta-sharing/</td><td>0</td><td>0</td></tr><tr><td>dbfs:/databricks-datasets/flights/</td><td>flights/</td><td>0</td><td>0</td></tr><tr><td>dbfs:/databricks-datasets/flower_photos/</td><td>flower_photos/</td><td>0</td><td>0</td></tr><tr><td>dbfs:/databricks-datasets/flowers/</td><td>flowers/</td><td>0</td><td>0</td></tr><tr><td>dbfs:/databricks-datasets/genomics/</td><td>genomics/</td><td>0</td><td>0</td></tr><tr><td>dbfs:/databricks-datasets/hail/</td><td>hail/</td><td>0</td><td>0</td></tr><tr><td>dbfs:/databricks-datasets/identifying-campaign-effectiveness/</td><td>identifying-campaign-effectiveness/</td><td>0</td><td>0</td></tr><tr><td>dbfs:/databricks-datasets/iot/</td><td>iot/</td><td>0</td><td>0</td></tr><tr><td>dbfs:/databricks-datasets/iot-stream/</td><td>iot-stream/</td><td>0</td><td>0</td></tr><tr><td>dbfs:/databricks-datasets/learning-spark/</td><td>learning-spark/</td><td>0</td><td>0</td></tr><tr><td>dbfs:/databricks-datasets/learning-spark-v2/</td><td>learning-spark-v2/</td><td>0</td><td>0</td></tr><tr><td>dbfs:/databricks-datasets/lending-club-loan-stats/</td><td>lending-club-loan-stats/</td><td>0</td><td>0</td></tr><tr><td>dbfs:/databricks-datasets/med-images/</td><td>med-images/</td><td>0</td><td>0</td></tr><tr><td>dbfs:/databricks-datasets/media/</td><td>media/</td><td>0</td><td>0</td></tr><tr><td>dbfs:/databricks-datasets/mnist-digits/</td><td>mnist-digits/</td><td>0</td><td>0</td></tr><tr><td>dbfs:/databricks-datasets/news20.binary/</td><td>news20.binary/</td><td>0</td><td>0</td></tr><tr><td>dbfs:/databricks-datasets/nyctaxi/</td><td>nyctaxi/</td><td>0</td><td>0</td></tr><tr><td>dbfs:/databricks-datasets/nyctaxi-with-zipcodes/</td><td>nyctaxi-with-zipcodes/</td><td>0</td><td>0</td></tr><tr><td>dbfs:/databricks-datasets/online_retail/</td><td>online_retail/</td><td>0</td><td>0</td></tr><tr><td>dbfs:/databricks-datasets/overlap-join/</td><td>overlap-join/</td><td>0</td><td>0</td></tr><tr><td>dbfs:/databricks-datasets/power-plant/</td><td>power-plant/</td><td>0</td><td>0</td></tr><tr><td>dbfs:/databricks-datasets/retail-org/</td><td>retail-org/</td><td>0</td><td>0</td></tr><tr><td>dbfs:/databricks-datasets/rwe/</td><td>rwe/</td><td>0</td><td>0</td></tr><tr><td>dbfs:/databricks-datasets/sai-summit-2019-sf/</td><td>sai-summit-2019-sf/</td><td>0</td><td>0</td></tr><tr><td>dbfs:/databricks-datasets/sample_logs/</td><td>sample_logs/</td><td>0</td><td>0</td></tr><tr><td>dbfs:/databricks-datasets/samples/</td><td>samples/</td><td>0</td><td>0</td></tr><tr><td>dbfs:/databricks-datasets/sfo_customer_survey/</td><td>sfo_customer_survey/</td><td>0</td><td>0</td></tr><tr><td>dbfs:/databricks-datasets/sms_spam_collection/</td><td>sms_spam_collection/</td><td>0</td><td>0</td></tr><tr><td>dbfs:/databricks-datasets/songs/</td><td>songs/</td><td>0</td><td>0</td></tr><tr><td>dbfs:/databricks-datasets/structured-streaming/</td><td>structured-streaming/</td><td>0</td><td>0</td></tr><tr><td>dbfs:/databricks-datasets/timeseries/</td><td>timeseries/</td><td>0</td><td>0</td></tr><tr><td>dbfs:/databricks-datasets/tpch/</td><td>tpch/</td><td>0</td><td>0</td></tr><tr><td>dbfs:/databricks-datasets/travel_recommendations_realtime/</td><td>travel_recommendations_realtime/</td><td>0</td><td>0</td></tr><tr><td>dbfs:/databricks-datasets/warmup/</td><td>warmup/</td><td>0</td><td>0</td></tr><tr><td>dbfs:/databricks-datasets/weather/</td><td>weather/</td><td>0</td><td>0</td></tr><tr><td>dbfs:/databricks-datasets/wiki/</td><td>wiki/</td><td>0</td><td>0</td></tr><tr><td>dbfs:/databricks-datasets/wikipedia-datasets/</td><td>wikipedia-datasets/</td><td>0</td><td>0</td></tr><tr><td>dbfs:/databricks-datasets/wine-quality/</td><td>wine-quality/</td><td>0</td><td>0</td></tr></tbody></table></div>"
      ]
     },
     "metadata": {
      "application/vnd.databricks.v1+output": {
       "addedWidgets": {},
       "aggData": [],
       "aggError": "",
       "aggOverflow": false,
       "aggSchema": [],
       "aggSeriesLimitReached": false,
       "aggType": "",
       "arguments": {},
       "columnCustomDisplayInfos": {},
       "data": [
        [
         "dbfs:/databricks-datasets/COVID/",
         "COVID/",
         0,
         0
        ],
        [
         "dbfs:/databricks-datasets/README.md",
         "README.md",
         976,
         1532468253000
        ],
        [
         "dbfs:/databricks-datasets/Rdatasets/",
         "Rdatasets/",
         0,
         0
        ],
        [
         "dbfs:/databricks-datasets/SPARK_README.md",
         "SPARK_README.md",
         3359,
         1455043490000
        ],
        [
         "dbfs:/databricks-datasets/adult/",
         "adult/",
         0,
         0
        ],
        [
         "dbfs:/databricks-datasets/airlines/",
         "airlines/",
         0,
         0
        ],
        [
         "dbfs:/databricks-datasets/amazon/",
         "amazon/",
         0,
         0
        ],
        [
         "dbfs:/databricks-datasets/asa/",
         "asa/",
         0,
         0
        ],
        [
         "dbfs:/databricks-datasets/atlas_higgs/",
         "atlas_higgs/",
         0,
         0
        ],
        [
         "dbfs:/databricks-datasets/bikeSharing/",
         "bikeSharing/",
         0,
         0
        ],
        [
         "dbfs:/databricks-datasets/cctvVideos/",
         "cctvVideos/",
         0,
         0
        ],
        [
         "dbfs:/databricks-datasets/credit-card-fraud/",
         "credit-card-fraud/",
         0,
         0
        ],
        [
         "dbfs:/databricks-datasets/cs100/",
         "cs100/",
         0,
         0
        ],
        [
         "dbfs:/databricks-datasets/cs110x/",
         "cs110x/",
         0,
         0
        ],
        [
         "dbfs:/databricks-datasets/cs190/",
         "cs190/",
         0,
         0
        ],
        [
         "dbfs:/databricks-datasets/data.gov/",
         "data.gov/",
         0,
         0
        ],
        [
         "dbfs:/databricks-datasets/definitive-guide/",
         "definitive-guide/",
         0,
         0
        ],
        [
         "dbfs:/databricks-datasets/delta-sharing/",
         "delta-sharing/",
         0,
         0
        ],
        [
         "dbfs:/databricks-datasets/flights/",
         "flights/",
         0,
         0
        ],
        [
         "dbfs:/databricks-datasets/flower_photos/",
         "flower_photos/",
         0,
         0
        ],
        [
         "dbfs:/databricks-datasets/flowers/",
         "flowers/",
         0,
         0
        ],
        [
         "dbfs:/databricks-datasets/genomics/",
         "genomics/",
         0,
         0
        ],
        [
         "dbfs:/databricks-datasets/hail/",
         "hail/",
         0,
         0
        ],
        [
         "dbfs:/databricks-datasets/identifying-campaign-effectiveness/",
         "identifying-campaign-effectiveness/",
         0,
         0
        ],
        [
         "dbfs:/databricks-datasets/iot/",
         "iot/",
         0,
         0
        ],
        [
         "dbfs:/databricks-datasets/iot-stream/",
         "iot-stream/",
         0,
         0
        ],
        [
         "dbfs:/databricks-datasets/learning-spark/",
         "learning-spark/",
         0,
         0
        ],
        [
         "dbfs:/databricks-datasets/learning-spark-v2/",
         "learning-spark-v2/",
         0,
         0
        ],
        [
         "dbfs:/databricks-datasets/lending-club-loan-stats/",
         "lending-club-loan-stats/",
         0,
         0
        ],
        [
         "dbfs:/databricks-datasets/med-images/",
         "med-images/",
         0,
         0
        ],
        [
         "dbfs:/databricks-datasets/media/",
         "media/",
         0,
         0
        ],
        [
         "dbfs:/databricks-datasets/mnist-digits/",
         "mnist-digits/",
         0,
         0
        ],
        [
         "dbfs:/databricks-datasets/news20.binary/",
         "news20.binary/",
         0,
         0
        ],
        [
         "dbfs:/databricks-datasets/nyctaxi/",
         "nyctaxi/",
         0,
         0
        ],
        [
         "dbfs:/databricks-datasets/nyctaxi-with-zipcodes/",
         "nyctaxi-with-zipcodes/",
         0,
         0
        ],
        [
         "dbfs:/databricks-datasets/online_retail/",
         "online_retail/",
         0,
         0
        ],
        [
         "dbfs:/databricks-datasets/overlap-join/",
         "overlap-join/",
         0,
         0
        ],
        [
         "dbfs:/databricks-datasets/power-plant/",
         "power-plant/",
         0,
         0
        ],
        [
         "dbfs:/databricks-datasets/retail-org/",
         "retail-org/",
         0,
         0
        ],
        [
         "dbfs:/databricks-datasets/rwe/",
         "rwe/",
         0,
         0
        ],
        [
         "dbfs:/databricks-datasets/sai-summit-2019-sf/",
         "sai-summit-2019-sf/",
         0,
         0
        ],
        [
         "dbfs:/databricks-datasets/sample_logs/",
         "sample_logs/",
         0,
         0
        ],
        [
         "dbfs:/databricks-datasets/samples/",
         "samples/",
         0,
         0
        ],
        [
         "dbfs:/databricks-datasets/sfo_customer_survey/",
         "sfo_customer_survey/",
         0,
         0
        ],
        [
         "dbfs:/databricks-datasets/sms_spam_collection/",
         "sms_spam_collection/",
         0,
         0
        ],
        [
         "dbfs:/databricks-datasets/songs/",
         "songs/",
         0,
         0
        ],
        [
         "dbfs:/databricks-datasets/structured-streaming/",
         "structured-streaming/",
         0,
         0
        ],
        [
         "dbfs:/databricks-datasets/timeseries/",
         "timeseries/",
         0,
         0
        ],
        [
         "dbfs:/databricks-datasets/tpch/",
         "tpch/",
         0,
         0
        ],
        [
         "dbfs:/databricks-datasets/travel_recommendations_realtime/",
         "travel_recommendations_realtime/",
         0,
         0
        ],
        [
         "dbfs:/databricks-datasets/warmup/",
         "warmup/",
         0,
         0
        ],
        [
         "dbfs:/databricks-datasets/weather/",
         "weather/",
         0,
         0
        ],
        [
         "dbfs:/databricks-datasets/wiki/",
         "wiki/",
         0,
         0
        ],
        [
         "dbfs:/databricks-datasets/wikipedia-datasets/",
         "wikipedia-datasets/",
         0,
         0
        ],
        [
         "dbfs:/databricks-datasets/wine-quality/",
         "wine-quality/",
         0,
         0
        ]
       ],
       "datasetInfos": [],
       "dbfsResultPath": null,
       "isJsonSchema": true,
       "metadata": {},
       "overflow": false,
       "plotOptions": {
        "customPlotOptions": {},
        "displayType": "table",
        "pivotAggregation": null,
        "pivotColumns": null,
        "xColumns": null,
        "yColumns": null
       },
       "removedWidgets": [],
       "schema": [
        {
         "metadata": "{}",
         "name": "path",
         "type": "\"string\""
        },
        {
         "metadata": "{}",
         "name": "name",
         "type": "\"string\""
        },
        {
         "metadata": "{}",
         "name": "size",
         "type": "\"long\""
        },
        {
         "metadata": "{}",
         "name": "modificationTime",
         "type": "\"long\""
        }
       ],
       "type": "table"
      }
     },
     "output_type": "display_data"
    }
   ],
   "source": [
    "# display datasets already in databricks\n",
    "display(dbutils.fs.ls(\"/databricks-datasets\"))"
   ]
  },
  {
   "cell_type": "markdown",
   "metadata": {
    "application/vnd.databricks.v1+cell": {
     "cellMetadata": {},
     "inputWidgets": {},
     "nuid": "020e58be-b1ff-4cd2-b6d6-d7115ce37eb6",
     "showTitle": false,
     "title": ""
    }
   },
   "source": [
    "Lets take a look at the '**adult**' dataset on the filesystem. This is the typical US Census data you often see online in tutorials. [Here](https://archive.ics.uci.edu/ml/datasets/adult) is the same data in the UCI repository.\n",
    "\n",
    "_As an aside: [here](https://github.com/GoogleCloudPlatform/cloudml-samples/tree/master/census) this same dataset is used as a quickstart example for Google CLoud ML & Tensorflow Estimator API (in case youd be interested in playing with tensorflow on the same dataset as here)._"
   ]
  },
  {
   "cell_type": "code",
   "execution_count": 0,
   "metadata": {
    "application/vnd.databricks.v1+cell": {
     "cellMetadata": {
      "byteLimit": 2048000,
      "rowLimit": 10000
     },
     "inputWidgets": {},
     "nuid": "159c28b3-d545-4c28-bfb0-aa66c2856bf3",
     "showTitle": false,
     "title": ""
    }
   },
   "outputs": [
    {
     "output_type": "display_data",
     "data": {
      "text/html": [
       "<style scoped>\n",
       "  .table-result-container {\n",
       "    max-height: 300px;\n",
       "    overflow: auto;\n",
       "  }\n",
       "  table, th, td {\n",
       "    border: 1px solid black;\n",
       "    border-collapse: collapse;\n",
       "  }\n",
       "  th, td {\n",
       "    padding: 5px;\n",
       "  }\n",
       "  th {\n",
       "    text-align: left;\n",
       "  }\n",
       "</style><div class='table-result-container'><table class='table-result'><thead style='background-color: white'><tr><th>path</th><th>name</th><th>size</th><th>modificationTime</th></tr></thead><tbody><tr><td>dbfs:/databricks-datasets/adult/adult.data</td><td>adult.data</td><td>3974305</td><td>1444260537000</td></tr></tbody></table></div>"
      ]
     },
     "metadata": {
      "application/vnd.databricks.v1+output": {
       "addedWidgets": {},
       "aggData": [],
       "aggError": "",
       "aggOverflow": false,
       "aggSchema": [],
       "aggSeriesLimitReached": false,
       "aggType": "",
       "arguments": {},
       "columnCustomDisplayInfos": {},
       "data": [
        [
         "dbfs:/databricks-datasets/adult/adult.data",
         "adult.data",
         3974305,
         1444260537000
        ]
       ],
       "datasetInfos": [],
       "dbfsResultPath": null,
       "isJsonSchema": true,
       "metadata": {
        "isDbfsCommandResult": false
       },
       "overflow": false,
       "plotOptions": {
        "customPlotOptions": {},
        "displayType": "table",
        "pivotAggregation": null,
        "pivotColumns": null,
        "xColumns": null,
        "yColumns": null
       },
       "removedWidgets": [],
       "schema": [
        {
         "metadata": "{}",
         "name": "path",
         "type": "\"string\""
        },
        {
         "metadata": "{}",
         "name": "name",
         "type": "\"string\""
        },
        {
         "metadata": "{}",
         "name": "size",
         "type": "\"long\""
        },
        {
         "metadata": "{}",
         "name": "modificationTime",
         "type": "\"long\""
        }
       ],
       "type": "table"
      }
     },
     "output_type": "display_data"
    }
   ],
   "source": [
    "%fs ls databricks-datasets/adult/adult.data"
   ]
  },
  {
   "cell_type": "markdown",
   "metadata": {
    "application/vnd.databricks.v1+cell": {
     "cellMetadata": {},
     "inputWidgets": {},
     "nuid": "c6dbd58c-70e1-4aa1-8f00-14085509418c",
     "showTitle": false,
     "title": ""
    }
   },
   "source": [
    "**Note**: Above  %fs is just some file system cell magic that is specific to databricks. More info [here](https://docs.databricks.com/user-guide/notebooks/index.html#mix-languages)."
   ]
  },
  {
   "cell_type": "markdown",
   "metadata": {
    "application/vnd.databricks.v1+cell": {
     "cellMetadata": {},
     "inputWidgets": {},
     "nuid": "2e1abe79-4d85-473e-8496-3292d59f6924",
     "showTitle": false,
     "title": ""
    }
   },
   "source": [
    "#### Spark SQL\n",
    "\n",
    "Below we will use Spark SQL to load in the data and then register it as a Dataframe aswell. So the end result will be a Spark SQL table called _adult_ and a Spark Dataframe called _df_adult_. \n",
    "<br><br>\n",
    "This is an example of the flexibility in Spark in that you could do lots of you ETL and data wrangling using either Spark SQL or Dataframes and pyspark. Most of the time it's a case of using whatever you are most comfortable with.\n",
    "<br><br>\n",
    "When you get more advanced then you might looking the pro's and con's of each and when you might favour one or the other (or operating direclty on RDD's), [here](https://databricks.com/blog/2016/07/14/a-tale-of-three-apache-spark-apis-rdds-dataframes-and-datasets.html) is a good article on the issues. For now, no need to overthink it!"
   ]
  },
  {
   "cell_type": "code",
   "execution_count": 0,
   "metadata": {
    "application/vnd.databricks.v1+cell": {
     "cellMetadata": {
      "byteLimit": 2048000,
      "implicitDf": true,
      "rowLimit": 10000
     },
     "inputWidgets": {},
     "nuid": "809b7ef9-8a4c-4c0f-8fde-825b5385b13a",
     "showTitle": false,
     "title": ""
    }
   },
   "outputs": [
    {
     "output_type": "display_data",
     "data": {
      "text/html": [
       "<style scoped>\n",
       "  .table-result-container {\n",
       "    max-height: 300px;\n",
       "    overflow: auto;\n",
       "  }\n",
       "  table, th, td {\n",
       "    border: 1px solid black;\n",
       "    border-collapse: collapse;\n",
       "  }\n",
       "  th, td {\n",
       "    padding: 5px;\n",
       "  }\n",
       "  th {\n",
       "    text-align: left;\n",
       "  }\n",
       "</style><div class='table-result-container'><table class='table-result'><thead style='background-color: white'><tr></tr></thead><tbody></tbody></table></div>"
      ]
     },
     "metadata": {
      "application/vnd.databricks.v1+output": {
       "addedWidgets": {},
       "aggData": [],
       "aggError": "",
       "aggOverflow": false,
       "aggSchema": [],
       "aggSeriesLimitReached": false,
       "aggType": "",
       "arguments": {},
       "columnCustomDisplayInfos": {},
       "data": [],
       "datasetInfos": [],
       "dbfsResultPath": null,
       "isJsonSchema": true,
       "metadata": {},
       "overflow": false,
       "plotOptions": {
        "customPlotOptions": {},
        "displayType": "table",
        "pivotAggregation": null,
        "pivotColumns": null,
        "xColumns": null,
        "yColumns": null
       },
       "removedWidgets": [],
       "schema": [],
       "type": "table"
      }
     },
     "output_type": "display_data"
    }
   ],
   "source": [
    "%sql \n",
    "-- drop the table if it already exists\n",
    "DROP TABLE IF EXISTS adult"
   ]
  },
  {
   "cell_type": "code",
   "execution_count": 0,
   "metadata": {
    "application/vnd.databricks.v1+cell": {
     "cellMetadata": {
      "byteLimit": 2048000,
      "implicitDf": true,
      "rowLimit": 10000
     },
     "inputWidgets": {},
     "nuid": "b7516a23-ada3-4880-a580-d9740468f451",
     "showTitle": false,
     "title": ""
    }
   },
   "outputs": [
    {
     "output_type": "display_data",
     "data": {
      "text/html": [
       "<style scoped>\n",
       "  .table-result-container {\n",
       "    max-height: 300px;\n",
       "    overflow: auto;\n",
       "  }\n",
       "  table, th, td {\n",
       "    border: 1px solid black;\n",
       "    border-collapse: collapse;\n",
       "  }\n",
       "  th, td {\n",
       "    padding: 5px;\n",
       "  }\n",
       "  th {\n",
       "    text-align: left;\n",
       "  }\n",
       "</style><div class='table-result-container'><table class='table-result'><thead style='background-color: white'><tr></tr></thead><tbody></tbody></table></div>"
      ]
     },
     "metadata": {
      "application/vnd.databricks.v1+output": {
       "addedWidgets": {},
       "aggData": [],
       "aggError": "",
       "aggOverflow": false,
       "aggSchema": [],
       "aggSeriesLimitReached": false,
       "aggType": "",
       "arguments": {},
       "columnCustomDisplayInfos": {},
       "data": [],
       "datasetInfos": [],
       "dbfsResultPath": null,
       "isJsonSchema": true,
       "metadata": {},
       "overflow": false,
       "plotOptions": {
        "customPlotOptions": {},
        "displayType": "table",
        "pivotAggregation": null,
        "pivotColumns": null,
        "xColumns": null,
        "yColumns": null
       },
       "removedWidgets": [],
       "schema": [],
       "type": "table"
      }
     },
     "output_type": "display_data"
    }
   ],
   "source": [
    "%sql\n",
    "-- create a new table in Spark SQL from the datasets already loaded in the underlying filesystem.\n",
    "-- In the real world you might be pointing at a file on HDFS or a hive table etc. \n",
    "CREATE TABLE adult (\n",
    "  age DOUBLE,\n",
    "  workclass STRING,\n",
    "  fnlwgt DOUBLE,\n",
    "  education STRING,\n",
    "  education_num DOUBLE,\n",
    "  marital_status STRING,\n",
    "  occupation STRING,\n",
    "  relationship STRING,\n",
    "  race STRING,\n",
    "  sex STRING,\n",
    "  capital_gain DOUBLE,\n",
    "  capital_loss DOUBLE,\n",
    "  hours_per_week DOUBLE,\n",
    "  native_country STRING,\n",
    "  income STRING)\n",
    "USING com.databricks.spark.csv\n",
    "OPTIONS (path \"/databricks-datasets/adult/adult.data\", header \"true\")"
   ]
  },
  {
   "cell_type": "code",
   "execution_count": 0,
   "metadata": {
    "application/vnd.databricks.v1+cell": {
     "cellMetadata": {
      "byteLimit": 2048000,
      "rowLimit": 10000
     },
     "inputWidgets": {},
     "nuid": "4d26a0cc-510a-4df2-b411-b89828c20683",
     "showTitle": false,
     "title": ""
    }
   },
   "outputs": [
    {
     "output_type": "display_data",
     "data": {
      "text/html": [
       "<style scoped>\n",
       "  .table-result-container {\n",
       "    max-height: 300px;\n",
       "    overflow: auto;\n",
       "  }\n",
       "  table, th, td {\n",
       "    border: 1px solid black;\n",
       "    border-collapse: collapse;\n",
       "  }\n",
       "  th, td {\n",
       "    padding: 5px;\n",
       "  }\n",
       "  th {\n",
       "    text-align: left;\n",
       "  }\n",
       "</style><div class='table-result-container'><table class='table-result'><thead style='background-color: white'><tr><th>age</th><th>workclass</th><th>fnlwgt</th><th>education</th><th>education_num</th><th>marital_status</th><th>occupation</th><th>relationship</th><th>race</th><th>sex</th><th>capital_gain</th><th>capital_loss</th><th>hours_per_week</th><th>native_country</th><th>income</th></tr></thead><tbody><tr><td>50.0</td><td> Self-emp-not-inc</td><td>83311.0</td><td> Bachelors</td><td>13.0</td><td> Married-civ-spouse</td><td> Exec-managerial</td><td> Husband</td><td> White</td><td> Male</td><td>0.0</td><td>0.0</td><td>13.0</td><td> United-States</td><td> <=50K</td></tr><tr><td>38.0</td><td> Private</td><td>215646.0</td><td> HS-grad</td><td>9.0</td><td> Divorced</td><td> Handlers-cleaners</td><td> Not-in-family</td><td> White</td><td> Male</td><td>0.0</td><td>0.0</td><td>40.0</td><td> United-States</td><td> <=50K</td></tr><tr><td>53.0</td><td> Private</td><td>234721.0</td><td> 11th</td><td>7.0</td><td> Married-civ-spouse</td><td> Handlers-cleaners</td><td> Husband</td><td> Black</td><td> Male</td><td>0.0</td><td>0.0</td><td>40.0</td><td> United-States</td><td> <=50K</td></tr><tr><td>28.0</td><td> Private</td><td>338409.0</td><td> Bachelors</td><td>13.0</td><td> Married-civ-spouse</td><td> Prof-specialty</td><td> Wife</td><td> Black</td><td> Female</td><td>0.0</td><td>0.0</td><td>40.0</td><td> Cuba</td><td> <=50K</td></tr><tr><td>37.0</td><td> Private</td><td>284582.0</td><td> Masters</td><td>14.0</td><td> Married-civ-spouse</td><td> Exec-managerial</td><td> Wife</td><td> White</td><td> Female</td><td>0.0</td><td>0.0</td><td>40.0</td><td> United-States</td><td> <=50K</td></tr></tbody></table></div>"
      ]
     },
     "metadata": {
      "application/vnd.databricks.v1+output": {
       "addedWidgets": {},
       "aggData": [],
       "aggError": "",
       "aggOverflow": false,
       "aggSchema": [],
       "aggSeriesLimitReached": false,
       "aggType": "",
       "arguments": {},
       "columnCustomDisplayInfos": {},
       "data": [
        [
         50.0,
         " Self-emp-not-inc",
         83311.0,
         " Bachelors",
         13.0,
         " Married-civ-spouse",
         " Exec-managerial",
         " Husband",
         " White",
         " Male",
         0.0,
         0.0,
         13.0,
         " United-States",
         " <=50K"
        ],
        [
         38.0,
         " Private",
         215646.0,
         " HS-grad",
         9.0,
         " Divorced",
         " Handlers-cleaners",
         " Not-in-family",
         " White",
         " Male",
         0.0,
         0.0,
         40.0,
         " United-States",
         " <=50K"
        ],
        [
         53.0,
         " Private",
         234721.0,
         " 11th",
         7.0,
         " Married-civ-spouse",
         " Handlers-cleaners",
         " Husband",
         " Black",
         " Male",
         0.0,
         0.0,
         40.0,
         " United-States",
         " <=50K"
        ],
        [
         28.0,
         " Private",
         338409.0,
         " Bachelors",
         13.0,
         " Married-civ-spouse",
         " Prof-specialty",
         " Wife",
         " Black",
         " Female",
         0.0,
         0.0,
         40.0,
         " Cuba",
         " <=50K"
        ],
        [
         37.0,
         " Private",
         284582.0,
         " Masters",
         14.0,
         " Married-civ-spouse",
         " Exec-managerial",
         " Wife",
         " White",
         " Female",
         0.0,
         0.0,
         40.0,
         " United-States",
         " <=50K"
        ]
       ],
       "datasetInfos": [],
       "dbfsResultPath": null,
       "isJsonSchema": true,
       "metadata": {},
       "overflow": false,
       "plotOptions": {
        "customPlotOptions": {},
        "displayType": "table",
        "pivotAggregation": null,
        "pivotColumns": null,
        "xColumns": null,
        "yColumns": null
       },
       "removedWidgets": [],
       "schema": [
        {
         "metadata": "{}",
         "name": "age",
         "type": "\"double\""
        },
        {
         "metadata": "{}",
         "name": "workclass",
         "type": "\"string\""
        },
        {
         "metadata": "{}",
         "name": "fnlwgt",
         "type": "\"double\""
        },
        {
         "metadata": "{}",
         "name": "education",
         "type": "\"string\""
        },
        {
         "metadata": "{}",
         "name": "education_num",
         "type": "\"double\""
        },
        {
         "metadata": "{}",
         "name": "marital_status",
         "type": "\"string\""
        },
        {
         "metadata": "{}",
         "name": "occupation",
         "type": "\"string\""
        },
        {
         "metadata": "{}",
         "name": "relationship",
         "type": "\"string\""
        },
        {
         "metadata": "{}",
         "name": "race",
         "type": "\"string\""
        },
        {
         "metadata": "{}",
         "name": "sex",
         "type": "\"string\""
        },
        {
         "metadata": "{}",
         "name": "capital_gain",
         "type": "\"double\""
        },
        {
         "metadata": "{}",
         "name": "capital_loss",
         "type": "\"double\""
        },
        {
         "metadata": "{}",
         "name": "hours_per_week",
         "type": "\"double\""
        },
        {
         "metadata": "{}",
         "name": "native_country",
         "type": "\"string\""
        },
        {
         "metadata": "{}",
         "name": "income",
         "type": "\"string\""
        }
       ],
       "type": "table"
      }
     },
     "output_type": "display_data"
    }
   ],
   "source": [
    "# look at the data\n",
    "#spark.sql(\"SELECT * FROM adult LIMIT 5\").show() \n",
    "# this will look prettier in Databricks if you use display() instead\n",
    "display(spark.sql(\"SELECT * FROM adult LIMIT 5\"))"
   ]
  },
  {
   "cell_type": "markdown",
   "metadata": {
    "application/vnd.databricks.v1+cell": {
     "cellMetadata": {},
     "inputWidgets": {},
     "nuid": "e94359fa-b4fd-4d63-83cd-22c05a9dd7fd",
     "showTitle": false,
     "title": ""
    }
   },
   "source": [
    "If you are more comfortable with SQL then as you can see below, its very easy to just get going with writing standard SQL type code to analyse your data, do data wrangling and create new dataframes."
   ]
  },
  {
   "cell_type": "code",
   "execution_count": 0,
   "metadata": {
    "application/vnd.databricks.v1+cell": {
     "cellMetadata": {
      "byteLimit": 2048000,
      "rowLimit": 10000
     },
     "inputWidgets": {},
     "nuid": "6e7c0283-440d-4623-8682-3ef3011af910",
     "showTitle": false,
     "title": ""
    }
   },
   "outputs": [
    {
     "output_type": "display_data",
     "data": {
      "text/html": [
       "<style scoped>\n",
       "  .table-result-container {\n",
       "    max-height: 300px;\n",
       "    overflow: auto;\n",
       "  }\n",
       "  table, th, td {\n",
       "    border: 1px solid black;\n",
       "    border-collapse: collapse;\n",
       "  }\n",
       "  th, td {\n",
       "    padding: 5px;\n",
       "  }\n",
       "  th {\n",
       "    text-align: left;\n",
       "  }\n",
       "</style><div class='table-result-container'><table class='table-result'><thead style='background-color: white'><tr><th>occupation</th><th>n</th><th>married_rate</th><th>widow_rate</th><th>divorce_rate</th><th>separated_rate</th><th>bachelor_rate</th></tr></thead><tbody><tr><td> Prof-specialty</td><td>4140</td><td>0.53</td><td>0.02</td><td>0.13</td><td>0.02</td><td>0.3</td></tr><tr><td> Craft-repair</td><td>4099</td><td>0.64</td><td>0.01</td><td>0.11</td><td>0.03</td><td>0.21</td></tr><tr><td> Exec-managerial</td><td>4066</td><td>0.61</td><td>0.02</td><td>0.15</td><td>0.02</td><td>0.2</td></tr><tr><td> Adm-clerical</td><td>3769</td><td>0.28</td><td>0.04</td><td>0.22</td><td>0.04</td><td>0.42</td></tr><tr><td> Sales</td><td>3650</td><td>0.47</td><td>0.03</td><td>0.12</td><td>0.03</td><td>0.36</td></tr><tr><td> Other-service</td><td>3295</td><td>0.24</td><td>0.05</td><td>0.15</td><td>0.06</td><td>0.5</td></tr><tr><td> Machine-op-inspct</td><td>2002</td><td>0.51</td><td>0.03</td><td>0.14</td><td>0.04</td><td>0.29</td></tr><tr><td> ?</td><td>1843</td><td>0.36</td><td>0.08</td><td>0.1</td><td>0.04</td><td>0.42</td></tr><tr><td> Transport-moving</td><td>1597</td><td>0.63</td><td>0.02</td><td>0.11</td><td>0.02</td><td>0.21</td></tr><tr><td> Handlers-cleaners</td><td>1370</td><td>0.36</td><td>0.01</td><td>0.09</td><td>0.03</td><td>0.51</td></tr><tr><td> Farming-fishing</td><td>994</td><td>0.6</td><td>0.02</td><td>0.06</td><td>0.02</td><td>0.29</td></tr><tr><td> Tech-support</td><td>928</td><td>0.44</td><td>0.02</td><td>0.15</td><td>0.03</td><td>0.36</td></tr><tr><td> Protective-serv</td><td>649</td><td>0.6</td><td>0.01</td><td>0.12</td><td>0.02</td><td>0.24</td></tr><tr><td> Priv-house-serv</td><td>149</td><td>0.13</td><td>0.15</td><td>0.19</td><td>0.08</td><td>0.45</td></tr><tr><td> Armed-Forces</td><td>9</td><td>0.33</td><td>0.0</td><td>0.0</td><td>0.0</td><td>0.67</td></tr></tbody></table></div>"
      ]
     },
     "metadata": {
      "application/vnd.databricks.v1+output": {
       "addedWidgets": {},
       "aggData": [],
       "aggError": "",
       "aggOverflow": false,
       "aggSchema": [],
       "aggSeriesLimitReached": false,
       "aggType": "",
       "arguments": {},
       "columnCustomDisplayInfos": {},
       "data": [
        [
         " Prof-specialty",
         4140,
         0.53,
         0.02,
         0.13,
         0.02,
         0.3
        ],
        [
         " Craft-repair",
         4099,
         0.64,
         0.01,
         0.11,
         0.03,
         0.21
        ],
        [
         " Exec-managerial",
         4066,
         0.61,
         0.02,
         0.15,
         0.02,
         0.2
        ],
        [
         " Adm-clerical",
         3769,
         0.28,
         0.04,
         0.22,
         0.04,
         0.42
        ],
        [
         " Sales",
         3650,
         0.47,
         0.03,
         0.12,
         0.03,
         0.36
        ],
        [
         " Other-service",
         3295,
         0.24,
         0.05,
         0.15,
         0.06,
         0.5
        ],
        [
         " Machine-op-inspct",
         2002,
         0.51,
         0.03,
         0.14,
         0.04,
         0.29
        ],
        [
         " ?",
         1843,
         0.36,
         0.08,
         0.1,
         0.04,
         0.42
        ],
        [
         " Transport-moving",
         1597,
         0.63,
         0.02,
         0.11,
         0.02,
         0.21
        ],
        [
         " Handlers-cleaners",
         1370,
         0.36,
         0.01,
         0.09,
         0.03,
         0.51
        ],
        [
         " Farming-fishing",
         994,
         0.6,
         0.02,
         0.06,
         0.02,
         0.29
        ],
        [
         " Tech-support",
         928,
         0.44,
         0.02,
         0.15,
         0.03,
         0.36
        ],
        [
         " Protective-serv",
         649,
         0.6,
         0.01,
         0.12,
         0.02,
         0.24
        ],
        [
         " Priv-house-serv",
         149,
         0.13,
         0.15,
         0.19,
         0.08,
         0.45
        ],
        [
         " Armed-Forces",
         9,
         0.33,
         0.0,
         0.0,
         0.0,
         0.67
        ]
       ],
       "datasetInfos": [],
       "dbfsResultPath": null,
       "isJsonSchema": true,
       "metadata": {},
       "overflow": false,
       "plotOptions": {
        "customPlotOptions": {},
        "displayType": "table",
        "pivotAggregation": null,
        "pivotColumns": null,
        "xColumns": null,
        "yColumns": null
       },
       "removedWidgets": [],
       "schema": [
        {
         "metadata": "{}",
         "name": "occupation",
         "type": "\"string\""
        },
        {
         "metadata": "{}",
         "name": "n",
         "type": "\"long\""
        },
        {
         "metadata": "{}",
         "name": "married_rate",
         "type": "\"double\""
        },
        {
         "metadata": "{}",
         "name": "widow_rate",
         "type": "\"double\""
        },
        {
         "metadata": "{}",
         "name": "divorce_rate",
         "type": "\"double\""
        },
        {
         "metadata": "{}",
         "name": "separated_rate",
         "type": "\"double\""
        },
        {
         "metadata": "{}",
         "name": "bachelor_rate",
         "type": "\"double\""
        }
       ],
       "type": "table"
      }
     },
     "output_type": "display_data"
    }
   ],
   "source": [
    "# Lets get some summary marital status rates by occupation\n",
    "result = spark.sql(\n",
    "  \"\"\"\n",
    "  SELECT \n",
    "    occupation,\n",
    "    SUM(1) as n,\n",
    "    ROUND(AVG(if(LTRIM(marital_status) LIKE 'Married-%',1,0)),2) as married_rate,\n",
    "    ROUND(AVG(if(lower(marital_status) LIKE '%widow%',1,0)),2) as widow_rate,\n",
    "    ROUND(AVG(if(LTRIM(marital_status) = 'Divorced',1,0)),2) as divorce_rate,\n",
    "    ROUND(AVG(if(LTRIM(marital_status) = 'Separated',1,0)),2) as separated_rate,\n",
    "    ROUND(AVG(if(LTRIM(marital_status) = 'Never-married',1,0)),2) as bachelor_rate\n",
    "  FROM \n",
    "    adult \n",
    "  GROUP BY 1\n",
    "  ORDER BY n DESC\n",
    "  \"\"\")\n",
    "display(result)"
   ]
  },
  {
   "cell_type": "markdown",
   "metadata": {
    "application/vnd.databricks.v1+cell": {
     "cellMetadata": {},
     "inputWidgets": {},
     "nuid": "70794e88-6169-4f1a-bb8e-09a99992c46e",
     "showTitle": false,
     "title": ""
    }
   },
   "source": [
    "You can easily register dataframes as a table for Spark SQL too. So this way you can easily move between Dataframes and Spark SQL for whatever reason."
   ]
  },
  {
   "cell_type": "code",
   "execution_count": 0,
   "metadata": {
    "application/vnd.databricks.v1+cell": {
     "cellMetadata": {
      "byteLimit": 2048000,
      "rowLimit": 10000
     },
     "inputWidgets": {},
     "nuid": "53b321d2-a4df-4b6c-9aec-d8a6cd0b2930",
     "showTitle": false,
     "title": ""
    }
   },
   "outputs": [
    {
     "output_type": "stream",
     "name": "stdout",
     "output_type": "stream",
     "text": [
      "+----------------+-------------------+\n|      occupation|           plus_50k|\n+----------------+-------------------+\n| Exec-managerial| 0.4840137727496311|\n|  Prof-specialty|0.44903381642512075|\n| Protective-serv|  0.325115562403698|\n|    Tech-support|0.30495689655172414|\n|           Sales| 0.2693150684931507|\n+----------------+-------------------+\nonly showing top 5 rows\n\n"
     ]
    }
   ],
   "source": [
    "# register the df we just made as a table for spark sql\n",
    "sqlContext.registerDataFrameAsTable(result, \"result\")\n",
    "spark.sql(\"SELECT * FROM result\").show(5)"
   ]
  },
  {
   "cell_type": "markdown",
   "metadata": {
    "application/vnd.databricks.v1+cell": {
     "cellMetadata": {},
     "inputWidgets": {},
     "nuid": "750c6f4b-be47-48b9-a675-e70253493b6c",
     "showTitle": false,
     "title": ""
    }
   },
   "source": [
    "#### <span style=\"color:darkblue\">Question 1</span>\n",
    "\n",
    "1. Write some spark sql to get the top 'bachelor_rate' by 'education' group?"
   ]
  },
  {
   "cell_type": "code",
   "execution_count": 0,
   "metadata": {
    "application/vnd.databricks.v1+cell": {
     "cellMetadata": {
      "byteLimit": 2048000,
      "rowLimit": 10000
     },
     "inputWidgets": {},
     "nuid": "ad2858cc-37e7-449d-8c29-566872dfb3aa",
     "showTitle": false,
     "title": ""
    }
   },
   "outputs": [
    {
     "output_type": "stream",
     "name": "stdout",
     "output_type": "stream",
     "text": [
      "+---------+-------------+\n|education|bachelor_rate|\n+---------+-------------+\n|     12th|         0.54|\n+---------+-------------+\n\n"
     ]
    }
   ],
   "source": [
    "### Question 1.1 Answer ###\n",
    "result = spark.sql(\n",
    "  \"\"\"\n",
    "  SELECT \n",
    "    education,\n",
    "     ROUND(AVG(if(LTRIM(marital_status) = 'Never-married',1,0)),2) as bachelor_rate\n",
    "  FROM \n",
    "    adult \n",
    "  GROUP BY education\n",
    "  ORDER BY bachelor_rate DESC\n",
    "  LIMIT 1  \n",
    "  \"\"\")\n",
    "result.show()"
   ]
  },
  {
   "cell_type": "markdown",
   "metadata": {
    "application/vnd.databricks.v1+cell": {
     "cellMetadata": {},
     "inputWidgets": {},
     "nuid": "17322754-65f0-4664-a821-6798fa2167a3",
     "showTitle": false,
     "title": ""
    }
   },
   "source": [
    "#### Spark DataFrames\n",
    "\n",
    "Below we will create our DataFrame from the SQL table and do some similar analysis as we did with Spark SQL but using the DataFrames API."
   ]
  },
  {
   "cell_type": "code",
   "execution_count": 0,
   "metadata": {
    "application/vnd.databricks.v1+cell": {
     "cellMetadata": {
      "byteLimit": 2048000,
      "rowLimit": 10000
     },
     "inputWidgets": {},
     "nuid": "4a7fba7e-361a-4c9f-8516-7aac7b992ad7",
     "showTitle": false,
     "title": ""
    }
   },
   "outputs": [],
   "source": [
    "# register a df from the sql df\n",
    "df_adult = spark.table(\"adult\")\n",
    "cols = df_adult.columns # this will be used much later in the notebook, ignore for now"
   ]
  },
  {
   "cell_type": "code",
   "execution_count": 0,
   "metadata": {
    "application/vnd.databricks.v1+cell": {
     "cellMetadata": {
      "byteLimit": 2048000,
      "rowLimit": 10000
     },
     "inputWidgets": {},
     "nuid": "8e1ca2d5-f0ca-4280-8c9f-bae218e0c7c9",
     "showTitle": false,
     "title": ""
    }
   },
   "outputs": [
    {
     "output_type": "stream",
     "name": "stdout",
     "output_type": "stream",
     "text": [
      "root\n |-- age: double (nullable = true)\n |-- workclass: string (nullable = true)\n |-- fnlwgt: double (nullable = true)\n |-- education: string (nullable = true)\n |-- education_num: double (nullable = true)\n |-- marital_status: string (nullable = true)\n |-- occupation: string (nullable = true)\n |-- relationship: string (nullable = true)\n |-- race: string (nullable = true)\n |-- sex: string (nullable = true)\n |-- capital_gain: double (nullable = true)\n |-- capital_loss: double (nullable = true)\n |-- hours_per_week: double (nullable = true)\n |-- native_country: string (nullable = true)\n |-- income: string (nullable = true)\n\n"
     ]
    }
   ],
   "source": [
    "# look at df schema\n",
    "df_adult.printSchema()"
   ]
  },
  {
   "cell_type": "code",
   "execution_count": 0,
   "metadata": {
    "application/vnd.databricks.v1+cell": {
     "cellMetadata": {
      "byteLimit": 2048000,
      "rowLimit": 10000
     },
     "inputWidgets": {},
     "nuid": "d7090706-8170-47ca-9f9f-b7113fc10219",
     "showTitle": false,
     "title": ""
    }
   },
   "outputs": [
    {
     "output_type": "stream",
     "name": "stdout",
     "output_type": "stream",
     "text": [
      "+----+-----------------+--------+----------+-------------+-------------------+------------------+--------------+------+-------+------------+------------+--------------+--------------+------+\n| age|        workclass|  fnlwgt| education|education_num|     marital_status|        occupation|  relationship|  race|    sex|capital_gain|capital_loss|hours_per_week|native_country|income|\n+----+-----------------+--------+----------+-------------+-------------------+------------------+--------------+------+-------+------------+------------+--------------+--------------+------+\n|50.0| Self-emp-not-inc| 83311.0| Bachelors|         13.0| Married-civ-spouse|   Exec-managerial|       Husband| White|   Male|         0.0|         0.0|          13.0| United-States| <=50K|\n|38.0|          Private|215646.0|   HS-grad|          9.0|           Divorced| Handlers-cleaners| Not-in-family| White|   Male|         0.0|         0.0|          40.0| United-States| <=50K|\n|53.0|          Private|234721.0|      11th|          7.0| Married-civ-spouse| Handlers-cleaners|       Husband| Black|   Male|         0.0|         0.0|          40.0| United-States| <=50K|\n|28.0|          Private|338409.0| Bachelors|         13.0| Married-civ-spouse|    Prof-specialty|          Wife| Black| Female|         0.0|         0.0|          40.0|          Cuba| <=50K|\n|37.0|          Private|284582.0|   Masters|         14.0| Married-civ-spouse|   Exec-managerial|          Wife| White| Female|         0.0|         0.0|          40.0| United-States| <=50K|\n+----+-----------------+--------+----------+-------------+-------------------+------------------+--------------+------+-------+------------+------------+--------------+--------------+------+\nonly showing top 5 rows\n\n"
     ]
    }
   ],
   "source": [
    "# look at the df\n",
    "#display(df_adult)\n",
    "df_adult.show(5)"
   ]
  },
  {
   "cell_type": "markdown",
   "metadata": {
    "application/vnd.databricks.v1+cell": {
     "cellMetadata": {},
     "inputWidgets": {},
     "nuid": "7af024db-a41e-44cf-ac8e-198fbe89b8e5",
     "showTitle": false,
     "title": ""
    }
   },
   "source": [
    "Below we will do a similar calculation to what we did above but using the DataFrames API"
   ]
  },
  {
   "cell_type": "code",
   "execution_count": 0,
   "metadata": {
    "application/vnd.databricks.v1+cell": {
     "cellMetadata": {
      "byteLimit": 2048000,
      "rowLimit": 10000
     },
     "inputWidgets": {},
     "nuid": "3f9043eb-e56b-4081-a374-14373c58b61c",
     "showTitle": false,
     "title": ""
    }
   },
   "outputs": [
    {
     "output_type": "stream",
     "name": "stdout",
     "output_type": "stream",
     "text": [
      "+----------------+-------------+\n|      occupation|divorced_rate|\n+----------------+-------------+\n|    Adm-clerical|         0.22|\n| Priv-house-serv|         0.19|\n| Exec-managerial|         0.15|\n|    Tech-support|         0.15|\n|   Other-service|         0.15|\n+----------------+-------------+\nonly showing top 5 rows\n\n"
     ]
    }
   ],
   "source": [
    "# import what we will need\n",
    "from pyspark.sql.functions import when, col, mean, desc, round\n",
    "\n",
    "# wrangle the data a bit\n",
    "df_result = df_adult.select(\n",
    "  df_adult['occupation'], \n",
    "  # create a 1/0 type col on the fly\n",
    "  when( col('marital_status') == ' Divorced' , 1 ).otherwise(0).alias('is_divorced')\n",
    ")\n",
    "# do grouping (and a round)\n",
    "df_result = df_result.groupBy('occupation').agg(round(mean('is_divorced'),2).alias('divorced_rate'))\n",
    "# do ordering\n",
    "df_result = df_result.orderBy(desc('divorced_rate'))\n",
    "# show results\n",
    "df_result.show(5)"
   ]
  },
  {
   "cell_type": "markdown",
   "metadata": {
    "application/vnd.databricks.v1+cell": {
     "cellMetadata": {},
     "inputWidgets": {},
     "nuid": "86ef5fcc-de75-4278-93ab-7d3f68f928e0",
     "showTitle": false,
     "title": ""
    }
   },
   "source": [
    "As you can see the dataframes api is a bit more verbose then just expressing what you want to do in standard SQL.<br><br>But some prefer it and might be more used to it, and there could be cases where expressing what you need to do might just be better using the DataFrame API if it is too complicated for a simple SQL expression for example of maybe involves recursion of some type."
   ]
  },
  {
   "cell_type": "markdown",
   "metadata": {
    "application/vnd.databricks.v1+cell": {
     "cellMetadata": {},
     "inputWidgets": {},
     "nuid": "17a2cf0f-d675-4ff6-9ebb-9fd939942226",
     "showTitle": false,
     "title": ""
    }
   },
   "source": [
    "#### <span style=\"color:darkblue\">Question 2</span>\n",
    "1. Write some pyspark to get the top 'bachelor_rate' by 'education' group using DataFrame operations?"
   ]
  },
  {
   "cell_type": "code",
   "execution_count": 0,
   "metadata": {
    "application/vnd.databricks.v1+cell": {
     "cellMetadata": {
      "byteLimit": 2048000,
      "rowLimit": 10000
     },
     "inputWidgets": {},
     "nuid": "2a0a3656-2a81-4035-a047-713e0ad675ea",
     "showTitle": false,
     "title": ""
    }
   },
   "outputs": [
    {
     "output_type": "stream",
     "name": "stdout",
     "output_type": "stream",
     "text": [
      "+---------+-------------+\n|education|bachelor_rate|\n+---------+-------------+\n|     12th|         0.54|\n+---------+-------------+\nonly showing top 1 row\n\n"
     ]
    }
   ],
   "source": [
    "### Question 2.1 Answer ###\n",
    "\n",
    "# wrangle the data a bit\n",
    "df_result = df_adult.select(\n",
    "  df_adult['education'], \n",
    "  # create a 1/0 type col on the fly\n",
    "  when( col('marital_status') == ' Never-married' , 1 ).otherwise(0).alias('is_bachelor')\n",
    ")\n",
    "# do grouping (and a round)\n",
    "df_result = df_result.groupBy('education').agg(round(mean('is_bachelor'),2).alias('bachelor_rate'))\n",
    "# do ordering\n",
    "df_result = df_result.orderBy(desc('bachelor_rate'))\n",
    "df_result.show(1)"
   ]
  },
  {
   "cell_type": "markdown",
   "metadata": {
    "application/vnd.databricks.v1+cell": {
     "cellMetadata": {},
     "inputWidgets": {},
     "nuid": "6705db14-ef8a-42c1-b230-a696a44cd5ac",
     "showTitle": false,
     "title": ""
    }
   },
   "source": [
    "#### Explore & Visualize Data\n",
    "\n",
    "It's very easy to [collect()](https://spark.apache.org/docs/latest/rdd-programming-guide.html#printing-elements-of-an-rdd) your Spark DataFrame data into a Pandas df and then continue to analyse or plot as you might normally.\n",
    "<br><br>\n",
    "Obviously if you try to collect() a huge DataFrame then you will run into issues, so usually you would only collect aggregated or sampled data into a Pandas df."
   ]
  },
  {
   "cell_type": "code",
   "execution_count": 0,
   "metadata": {
    "application/vnd.databricks.v1+cell": {
     "cellMetadata": {
      "byteLimit": 2048000,
      "rowLimit": 10000
     },
     "inputWidgets": {},
     "nuid": "71b1b4ff-6731-4323-b387-805959a5d310",
     "showTitle": false,
     "title": ""
    }
   },
   "outputs": [
    {
     "output_type": "display_data",
     "data": {
      "application/vnd.databricks.v1+bamboolib_hint": "{\"pd.DataFrames\": [], \"version\": \"0.0.1\"}",
      "text/plain": []
     },
     "metadata": {},
     "output_type": "display_data"
    },
    {
     "output_type": "stream",
     "name": "stdout",
     "output_type": "stream",
     "text": [
      "         occupation  plus_50k\n0   Exec-managerial  0.484014\n1    Prof-specialty  0.449034\n2   Protective-serv  0.325116\n3      Tech-support  0.304957\n4             Sales  0.269315\n"
     ]
    }
   ],
   "source": [
    "import pandas as pd\n",
    "\n",
    "# do some analysis\n",
    "result = spark.sql(\n",
    "  \"\"\"\n",
    "  SELECT \n",
    "    occupation,\n",
    "    AVG(IF(income = ' >50K',1,0)) as plus_50k\n",
    "  FROM \n",
    "    adult \n",
    "  GROUP BY 1\n",
    "  ORDER BY 2 DESC\n",
    "  \"\"\")\n",
    "\n",
    "# collect results into a pandas df\n",
    "df_pandas = pd.DataFrame(\n",
    "  result.collect(),\n",
    "  columns=result.schema.names\n",
    ")\n",
    "\n",
    "# look at df\n",
    "print(df_pandas.head())"
   ]
  },
  {
   "cell_type": "code",
   "execution_count": 0,
   "metadata": {
    "application/vnd.databricks.v1+cell": {
     "cellMetadata": {
      "byteLimit": 2048000,
      "rowLimit": 10000
     },
     "inputWidgets": {},
     "nuid": "f7cf3b2d-f965-4018-aa65-919a863a98e3",
     "showTitle": false,
     "title": ""
    }
   },
   "outputs": [
    {
     "output_type": "stream",
     "name": "stdout",
     "output_type": "stream",
     "text": [
      "        plus_50k\ncount  15.000000\nmean    0.197357\nstd     0.143993\nmin     0.006711\n25%     0.107373\n50%     0.134518\n75%     0.287136\nmax     0.484014\n"
     ]
    }
   ],
   "source": [
    "print(df_pandas.describe())"
   ]
  },
  {
   "cell_type": "code",
   "execution_count": 0,
   "metadata": {
    "application/vnd.databricks.v1+cell": {
     "cellMetadata": {
      "byteLimit": 2048000,
      "rowLimit": 10000
     },
     "inputWidgets": {},
     "nuid": "33ebe462-480a-4fb6-be48-dda44c515b88",
     "showTitle": false,
     "title": ""
    }
   },
   "outputs": [
    {
     "output_type": "stream",
     "name": "stdout",
     "output_type": "stream",
     "text": [
      "<class 'pandas.core.frame.DataFrame'>\nRangeIndex: 15 entries, 0 to 14\nData columns (total 2 columns):\n #   Column      Non-Null Count  Dtype  \n---  ------      --------------  -----  \n 0   occupation  15 non-null     object \n 1   plus_50k    15 non-null     float64\ndtypes: float64(1), object(1)\nmemory usage: 368.0+ bytes\nNone\n"
     ]
    }
   ],
   "source": [
    "print(df_pandas.info())"
   ]
  },
  {
   "cell_type": "markdown",
   "metadata": {
    "application/vnd.databricks.v1+cell": {
     "cellMetadata": {},
     "inputWidgets": {},
     "nuid": "43217b9d-403e-4e17-b142-9452d82f1923",
     "showTitle": false,
     "title": ""
    }
   },
   "source": [
    "Here we will just do some very basic plotting to show how you might collect what you are interested in into a Pandas DF and then just plot any way you normally would.\n",
    "\n",
    "For simplicity we are going to use the plotting functionality built into pandas (you could make this a pretty as you want)."
   ]
  },
  {
   "cell_type": "code",
   "execution_count": 0,
   "metadata": {
    "application/vnd.databricks.v1+cell": {
     "cellMetadata": {
      "byteLimit": 2048000,
      "rowLimit": 10000
     },
     "inputWidgets": {},
     "nuid": "e1db8a83-e8ba-4746-9476-6be3f7b5b6ec",
     "showTitle": false,
     "title": ""
    }
   },
   "outputs": [
    {
     "output_type": "display_data",
     "data": {
      "image/png": "[encoded data removed]"
     },
     "metadata": {
      "application/vnd.databricks.v1+output": {
       "addedWidgets": {},
       "arguments": {},
       "data": "data:image/png;base64,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\n",
       "datasetInfos": [],
       "metadata": {},
       "removedWidgets": [],
       "type": "image"
      }
     },
     "output_type": "display_data"
    },
    {
     "output_type": "display_data",
     "data": {
      "image/png": "[encoded data removed]"
     },
     "metadata": {
      "application/vnd.databricks.v1+output": {
       "addedWidgets": {},
       "arguments": {},
       "data": "data:image/png;base64,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\n",
       "datasetInfos": [],
       "metadata": {},
       "removedWidgets": [],
       "type": "image"
      }
     },
     "output_type": "display_data"
    }
   ],
   "source": [
    "import matplotlib.pyplot as plt\n",
    "\n",
    "# i like ggplot style\n",
    "plt.style.use('ggplot')\n",
    "\n",
    "# get simple plot on the pandas data\n",
    "myplot = df_pandas.plot(kind='barh', x='occupation', y='plus_50k')\n",
    "\n",
    "# display the plot (note - display() is a databricks function - \n",
    "# more info on plotting in Databricks is here: https://docs.databricks.com/user-guide/visualizations/matplotlib-and-ggplot.html)\n",
    "display(myplot.figure)"
   ]
  },
  {
   "cell_type": "markdown",
   "metadata": {
    "application/vnd.databricks.v1+cell": {
     "cellMetadata": {},
     "inputWidgets": {},
     "nuid": "396f0476-c525-4cd6-bdb4-5217c4373c3a",
     "showTitle": false,
     "title": ""
    }
   },
   "source": [
    "You can also easily get summary stats on a Spark DataFrame like below. [Here](https://databricks.com/blog/2015/06/02/statistical-and-mathematical-functions-with-dataframes-in-spark.html) is a nice blog post that has more examples.<br><br>So this is an example of why you might want to move from Spark SQL into DataFrames API as being able to just call describe() on the Spark DF is easier then trying to do the equivilant in Spark SQL."
   ]
  },
  {
   "cell_type": "code",
   "execution_count": 0,
   "metadata": {
    "application/vnd.databricks.v1+cell": {
     "cellMetadata": {
      "byteLimit": 2048000,
      "rowLimit": 10000
     },
     "inputWidgets": {},
     "nuid": "f3c3bee3-8668-40f1-8a23-a13e9f152cb4",
     "showTitle": false,
     "title": ""
    }
   },
   "outputs": [
    {
     "output_type": "stream",
     "name": "stdout",
     "output_type": "stream",
     "text": [
      "+-------+------------------+------------------+\n|summary|               age|     education_num|\n+-------+------------------+------------------+\n|  count|             32560|             32560|\n|   mean|38.581633906633904| 10.08058968058968|\n| stddev|13.640641827464002|2.5727089681052058|\n|    min|              17.0|               1.0|\n|    max|              90.0|              16.0|\n+-------+------------------+------------------+\n\n"
     ]
    }
   ],
   "source": [
    "# describe df\n",
    "df_adult.select(df_adult['age'],df_adult['education_num']).describe().show()"
   ]
  },
  {
   "cell_type": "markdown",
   "metadata": {
    "application/vnd.databricks.v1+cell": {
     "cellMetadata": {},
     "inputWidgets": {},
     "nuid": "94e17b7f-dda1-497c-b337-a55f48cefb79",
     "showTitle": false,
     "title": ""
    }
   },
   "source": [
    "### ML Pipeline - Logistic Regression vs Random Forest\n",
    "\n",
    "Below we will create two [Spark ML Pipelines](https://spark.apache.org/docs/latest/ml-pipeline.html) - one that fits a logistic regression and one that fits a random forest. We will then compare the performance of each.\n",
    "\n",
    "**Note**: A lot of the code below is adapted from [this example](https://docs.databricks.com/spark/latest/mllib/binary-classification-mllib-pipelines.html)."
   ]
  },
  {
   "cell_type": "code",
   "execution_count": 0,
   "metadata": {
    "application/vnd.databricks.v1+cell": {
     "cellMetadata": {
      "byteLimit": 2048000,
      "rowLimit": 10000
     },
     "inputWidgets": {},
     "nuid": "b331d00f-2eea-4792-b4b5-fcfb53e0466d",
     "showTitle": false,
     "title": ""
    }
   },
   "outputs": [],
   "source": [
    "from pyspark.ml import Pipeline\n",
    "from pyspark.ml.feature import OneHotEncoder, StringIndexer, VectorAssembler\n",
    "\n",
    "categoricalColumns = [\"workclass\", \"education\", \"marital_status\", \"occupation\", \"relationship\", \"race\", \"sex\", \"native_country\"]\n",
    "stages = [] # stages in our Pipeline\n",
    "\n",
    "for categoricalCol in categoricalColumns:\n",
    "    # Category Indexing with StringIndexer\n",
    "    stringIndexer = StringIndexer(inputCol=categoricalCol, outputCol=categoricalCol + \"Index\")\n",
    "    # Use OneHotEncoder to convert categorical variables into binary SparseVectors\n",
    "    # encoder = OneHotEncoder(inputCol=categoricalCol + \"Index\", outputCol=categoricalCol + \"classVec\")\n",
    "    encoder = OneHotEncoder(inputCols=[stringIndexer.getOutputCol()], outputCols=[categoricalCol + \"classVec\"])\n",
    "    # Add stages.  These are not run here, but will run all at once later on.\n",
    "    stages += [stringIndexer, encoder]"
   ]
  },
  {
   "cell_type": "code",
   "execution_count": 0,
   "metadata": {
    "application/vnd.databricks.v1+cell": {
     "cellMetadata": {
      "byteLimit": 2048000,
      "rowLimit": 10000
     },
     "inputWidgets": {},
     "nuid": "08063a2c-3a62-4cd9-8983-ea410db8f296",
     "showTitle": false,
     "title": ""
    }
   },
   "outputs": [],
   "source": [
    "# Convert label into label indices using the StringIndexer\n",
    "label_stringIdx = StringIndexer(inputCol=\"income\", outputCol=\"label\")\n",
    "stages += [label_stringIdx]"
   ]
  },
  {
   "cell_type": "code",
   "execution_count": 0,
   "metadata": {
    "application/vnd.databricks.v1+cell": {
     "cellMetadata": {
      "byteLimit": 2048000,
      "rowLimit": 10000
     },
     "inputWidgets": {},
     "nuid": "855e3caf-77e4-45b2-b9ed-cd0a2ed6145a",
     "showTitle": false,
     "title": ""
    }
   },
   "outputs": [],
   "source": [
    "# Transform all features into a vector using VectorAssembler\n",
    "numericCols = [\"age\", \"fnlwgt\", \"education_num\", \"capital_gain\", \"capital_loss\", \"hours_per_week\"]\n",
    "assemblerInputs = [c + \"classVec\" for c in categoricalColumns] + numericCols\n",
    "assembler = VectorAssembler(inputCols=assemblerInputs, outputCol=\"features\")\n",
    "stages += [assembler]"
   ]
  },
  {
   "cell_type": "code",
   "execution_count": 0,
   "metadata": {
    "application/vnd.databricks.v1+cell": {
     "cellMetadata": {
      "byteLimit": 2048000,
      "rowLimit": 10000
     },
     "inputWidgets": {},
     "nuid": "f053de2b-b6fd-40d4-b2d5-e505539544e4",
     "showTitle": false,
     "title": ""
    }
   },
   "outputs": [
    {
     "output_type": "stream",
     "name": "stdout",
     "output_type": "stream",
     "text": [
      "+-----+--------------------+----+-----------------+--------+----------+-------------+-------------------+------------------+--------------+------+-------+------------+------------+--------------+--------------+------+\n|label|            features| age|        workclass|  fnlwgt| education|education_num|     marital_status|        occupation|  relationship|  race|    sex|capital_gain|capital_loss|hours_per_week|native_country|income|\n+-----+--------------------+----+-----------------+--------+----------+-------------+-------------------+------------------+--------------+------+-------+------------+------------+--------------+--------------+------+\n|  0.0|(100,[1,10,23,31,...|50.0| Self-emp-not-inc| 83311.0| Bachelors|         13.0| Married-civ-spouse|   Exec-managerial|       Husband| White|   Male|         0.0|         0.0|          13.0| United-States| <=50K|\n|  0.0|(100,[0,8,25,38,4...|38.0|          Private|215646.0|   HS-grad|          9.0|           Divorced| Handlers-cleaners| Not-in-family| White|   Male|         0.0|         0.0|          40.0| United-States| <=50K|\n|  0.0|(100,[0,13,23,38,...|53.0|          Private|234721.0|      11th|          7.0| Married-civ-spouse| Handlers-cleaners|       Husband| Black|   Male|         0.0|         0.0|          40.0| United-States| <=50K|\n|  0.0|(100,[0,10,23,29,...|28.0|          Private|338409.0| Bachelors|         13.0| Married-civ-spouse|    Prof-specialty|          Wife| Black| Female|         0.0|         0.0|          40.0|          Cuba| <=50K|\n|  0.0|(100,[0,11,23,31,...|37.0|          Private|284582.0|   Masters|         14.0| Married-civ-spouse|   Exec-managerial|          Wife| White| Female|         0.0|         0.0|          40.0| United-States| <=50K|\n+-----+--------------------+----+-----------------+--------+----------+-------------+-------------------+------------------+--------------+------+-------+------------+------------+--------------+--------------+------+\nonly showing top 5 rows\n\n"
     ]
    }
   ],
   "source": [
    "# Create a Pipeline.\n",
    "pipeline = Pipeline(stages=stages)\n",
    "# Run the feature transformations.\n",
    "#  - fit() computes feature statistics as needed.\n",
    "#  - transform() actually transforms the features.\n",
    "pipelineModel = pipeline.fit(df_adult)\n",
    "dataset = pipelineModel.transform(df_adult)\n",
    "# Keep relevant columns\n",
    "selectedcols = [\"label\", \"features\"] + cols\n",
    "dataset = dataset.select(selectedcols)\n",
    "#display(dataset)\n",
    "dataset.select(selectedcols).show(5)"
   ]
  },
  {
   "cell_type": "code",
   "execution_count": 0,
   "metadata": {
    "application/vnd.databricks.v1+cell": {
     "cellMetadata": {
      "byteLimit": 2048000,
      "rowLimit": 10000
     },
     "inputWidgets": {},
     "nuid": "f02a1657-1313-46a9-80ec-b78640c39ffc",
     "showTitle": false,
     "title": ""
    }
   },
   "outputs": [
    {
     "output_type": "stream",
     "name": "stdout",
     "output_type": "stream",
     "text": [
      "22831\n9729\n"
     ]
    }
   ],
   "source": [
    "### Randomly split data into training and test sets. set seed for reproducibility\n",
    "(trainingData, testData) = dataset.randomSplit([0.7, 0.3], seed=100)\n",
    "print(trainingData.count())\n",
    "print(testData.count())"
   ]
  },
  {
   "cell_type": "code",
   "execution_count": 0,
   "metadata": {
    "application/vnd.databricks.v1+cell": {
     "cellMetadata": {
      "byteLimit": 2048000,
      "rowLimit": 10000
     },
     "inputWidgets": {},
     "nuid": "3015efa3-9bf4-4025-a9d0-9005314b4674",
     "showTitle": false,
     "title": ""
    }
   },
   "outputs": [
    {
     "output_type": "stream",
     "name": "stdout",
     "output_type": "stream",
     "text": [
      "Positive rate in the training data is 0.2398931277648811\n"
     ]
    }
   ],
   "source": [
    "from pyspark.sql.functions import avg\n",
    "\n",
    "# get the rate of the positive outcome from the training data to use as a threshold in the model\n",
    "training_data_positive_rate = trainingData.select(avg(trainingData['label'])).collect()[0][0] \n",
    "\n",
    "print(\"Positive rate in the training data is {}\".format(training_data_positive_rate))"
   ]
  },
  {
   "cell_type": "markdown",
   "metadata": {
    "application/vnd.databricks.v1+cell": {
     "cellMetadata": {},
     "inputWidgets": {},
     "nuid": "0f75012a-e1ed-4d5f-9394-3e528937c1f7",
     "showTitle": false,
     "title": ""
    }
   },
   "source": [
    "#### Logistic Regression - Train"
   ]
  },
  {
   "cell_type": "code",
   "execution_count": 0,
   "metadata": {
    "application/vnd.databricks.v1+cell": {
     "cellMetadata": {
      "byteLimit": 2048000,
      "rowLimit": 10000
     },
     "inputWidgets": {},
     "nuid": "ec9fbd1e-514c-494f-9d35-059ba4467dbd",
     "showTitle": false,
     "title": ""
    }
   },
   "outputs": [
    {
     "output_type": "stream",
     "name": "stdout",
     "output_type": "stream",
     "text": [
      "Best threshold based on model performance on training data is 0.3178139130754516\n"
     ]
    }
   ],
   "source": [
    "from pyspark.ml.classification import LogisticRegression\n",
    "\n",
    "# Create initial LogisticRegression model\n",
    "lr = LogisticRegression(labelCol=\"label\", featuresCol=\"features\", maxIter=10)\n",
    "\n",
    "# set threshold for the probability above which to predict a 1\n",
    "lr.setThreshold(training_data_positive_rate)\n",
    "# lr.setThreshold(0.5) # could use this if knew you had balanced data\n",
    "\n",
    "# Train model with Training Data\n",
    "lrModel = lr.fit(trainingData)\n",
    "\n",
    "# get training summary used for eval metrics and other params\n",
    "lrTrainingSummary = lrModel.summary\n",
    "\n",
    "# Find the best model threshold if you would like to use that instead of the empirical positve rate\n",
    "fMeasure = lrTrainingSummary.fMeasureByThreshold\n",
    "maxFMeasure = fMeasure.groupBy().max('F-Measure').select('max(F-Measure)').head()\n",
    "lrBestThreshold = fMeasure.where(fMeasure['F-Measure'] == maxFMeasure['max(F-Measure)']) \\\n",
    "    .select('threshold').head()['threshold']\n",
    "  \n",
    "print(\"Best threshold based on model performance on training data is {}\".format(lrBestThreshold))"
   ]
  },
  {
   "cell_type": "markdown",
   "metadata": {
    "application/vnd.databricks.v1+cell": {
     "cellMetadata": {},
     "inputWidgets": {},
     "nuid": "3d800056-61db-4ed4-a164-e33147548040",
     "showTitle": false,
     "title": ""
    }
   },
   "source": [
    "#### GBM - Train"
   ]
  },
  {
   "cell_type": "markdown",
   "metadata": {
    "application/vnd.databricks.v1+cell": {
     "cellMetadata": {},
     "inputWidgets": {},
     "nuid": "34ca9297-f03e-4b19-afba-317d20f868f9",
     "showTitle": false,
     "title": ""
    }
   },
   "source": [
    "#### <span style=\"color:darkblue\">Question 3</span>\n",
    "1. Train a GBTClassifier on the training data, call the trained model 'gbModel'"
   ]
  },
  {
   "cell_type": "code",
   "execution_count": 0,
   "metadata": {
    "application/vnd.databricks.v1+cell": {
     "cellMetadata": {
      "byteLimit": 2048000,
      "rowLimit": 10000
     },
     "inputWidgets": {},
     "nuid": "38a73d00-6754-4c4e-9189-5135aee15988",
     "showTitle": false,
     "title": ""
    }
   },
   "outputs": [
    {
     "output_type": "stream",
     "name": "stdout",
     "output_type": "stream",
     "text": [
      "Out[64]: GBTClassificationModel: uid = GBTClassifier_992061a8bc5d, numTrees=10, numClasses=2, numFeatures=100"
     ]
    }
   ],
   "source": [
    "### Question 3.1 Answer ###\n",
    "from pyspark.ml.classification import GBTClassifier\n",
    "\n",
    "# Create initial GBTClassified model\n",
    "gb = GBTClassifier(maxIter=10, maxDepth=2, seed=42, labelCol=\"label\", featuresCol=\"features\")\n",
    "\n",
    "# Train model with Training Data\n",
    "gbModel = gb.fit(trainingData)\n",
    "\n",
    "# set threshold for the probability above which to predict a 1\n",
    "thresholds_floats = [training_data_positive_rate, 1-training_data_positive_rate]\n",
    "gbModel.setThresholds(thresholds_floats)"
   ]
  },
  {
   "cell_type": "markdown",
   "metadata": {
    "application/vnd.databricks.v1+cell": {
     "cellMetadata": {},
     "inputWidgets": {},
     "nuid": "89ed5216-c2a5-4cba-85ee-af19d9342b61",
     "showTitle": false,
     "title": ""
    }
   },
   "source": [
    "#### Logistic Regression - Predict"
   ]
  },
  {
   "cell_type": "code",
   "execution_count": 0,
   "metadata": {
    "application/vnd.databricks.v1+cell": {
     "cellMetadata": {
      "byteLimit": 2048000,
      "rowLimit": 10000
     },
     "inputWidgets": {},
     "nuid": "4b8decf8-c3d7-4736-84b1-65cd6885d220",
     "showTitle": false,
     "title": ""
    }
   },
   "outputs": [
    {
     "output_type": "stream",
     "name": "stdout",
     "output_type": "stream",
     "text": [
      "+-----+----------+--------------------+\n|label|prediction|         probability|\n+-----+----------+--------------------+\n|  0.0|       1.0|[0.16021325257127...|\n|  0.0|       1.0|[0.70135471710865...|\n|  0.0|       1.0|[0.52846740809698...|\n|  0.0|       1.0|[0.67579684816591...|\n|  0.0|       1.0|[0.62003849332254...|\n+-----+----------+--------------------+\nonly showing top 5 rows\n\n"
     ]
    }
   ],
   "source": [
    "# make predictions on test data\n",
    "lrPredictions = lrModel.transform(testData)\n",
    "\n",
    "# display predictions\n",
    "display(lrPredictions.select(\"label\", \"prediction\", \"probability\").show(5))\n",
    "#display(lrPredictions)"
   ]
  },
  {
   "cell_type": "markdown",
   "metadata": {
    "application/vnd.databricks.v1+cell": {
     "cellMetadata": {},
     "inputWidgets": {},
     "nuid": "bab28a63-1f15-4746-88ef-7d92c752ea85",
     "showTitle": false,
     "title": ""
    }
   },
   "source": [
    "### GBM - Predict"
   ]
  },
  {
   "cell_type": "markdown",
   "metadata": {
    "application/vnd.databricks.v1+cell": {
     "cellMetadata": {},
     "inputWidgets": {},
     "nuid": "1645c6cd-9059-4abd-ac6b-4fdcca214875",
     "showTitle": false,
     "title": ""
    }
   },
   "source": [
    "#### <span style=\"color:darkblue\">Question 4</span>\n",
    "1. Get predictions on the test data for your GBTClassifier. Call the predictions df 'gbPredictions'."
   ]
  },
  {
   "cell_type": "code",
   "execution_count": 0,
   "metadata": {
    "application/vnd.databricks.v1+cell": {
     "cellMetadata": {
      "byteLimit": 2048000,
      "rowLimit": 10000
     },
     "inputWidgets": {},
     "nuid": "7d75ace3-3112-4984-ad6f-03151e7668d9",
     "showTitle": false,
     "title": ""
    }
   },
   "outputs": [
    {
     "output_type": "stream",
     "name": "stdout",
     "output_type": "stream",
     "text": [
      "+-----+----------+--------------------+\n|label|prediction|         probability|\n+-----+----------+--------------------+\n|  0.0|       0.0|[0.49780893689448...|\n|  0.0|       0.0|[0.75358071113421...|\n|  0.0|       0.0|[0.69948633085376...|\n|  0.0|       0.0|[0.72796621760589...|\n|  0.0|       0.0|[0.68350167424395...|\n+-----+----------+--------------------+\nonly showing top 5 rows\n\n"
     ]
    }
   ],
   "source": [
    "### Question 4.1 Answer ###\n",
    "\n",
    "# make predictions on test data\n",
    "gbPredictions = gbModel.transform(testData)\n",
    "\n",
    "display(gbPredictions.select(\"label\", \"prediction\", \"probability\").show(5))"
   ]
  },
  {
   "cell_type": "markdown",
   "metadata": {
    "application/vnd.databricks.v1+cell": {
     "cellMetadata": {},
     "inputWidgets": {},
     "nuid": "8c61b0c9-7d5b-423c-b474-2b8357b56bc3",
     "showTitle": false,
     "title": ""
    }
   },
   "source": [
    "#### Logistic Regression - Evaluate"
   ]
  },
  {
   "cell_type": "markdown",
   "metadata": {
    "application/vnd.databricks.v1+cell": {
     "cellMetadata": {},
     "inputWidgets": {},
     "nuid": "44ac1c67-e3a3-4531-b6a8-99389d5c6b56",
     "showTitle": false,
     "title": ""
    }
   },
   "source": [
    "#### <span style=\"color:darkblue\">Question 5</span>\n",
    "\n",
    "1. Complete the print_performance_metrics() function below to also include measures of F1, Precision, Recall, False Positive Rate and True Positive Rate."
   ]
  },
  {
   "cell_type": "code",
   "execution_count": 0,
   "metadata": {
    "application/vnd.databricks.v1+cell": {
     "cellMetadata": {
      "byteLimit": 2048000,
      "rowLimit": 10000
     },
     "inputWidgets": {},
     "nuid": "e696f5c5-0e3b-48bd-a967-606f8af2cc5e",
     "showTitle": false,
     "title": ""
    }
   },
   "outputs": [
    {
     "output_type": "stream",
     "name": "stdout",
     "output_type": "stream",
     "text": [
      "auc = 0.9022382581905842\naupr = 0.7639327846135503\n"
     ]
    },
    {
     "output_type": "stream",
     "name": "stderr",
     "output_type": "stream",
     "text": [
      "/databricks/spark/python/pyspark/sql/context.py:165: FutureWarning: Deprecated in 3.0.0. Use SparkSession.builder.getOrCreate() instead.\n  warnings.warn(\n"
     ]
    },
    {
     "output_type": "stream",
     "name": "stdout",
     "output_type": "stream",
     "text": [
      "Area under PR = 0.550904296478963\nArea under ROC = 0.8214764233357801\nAccuracy = 0.8119025593586185\nDenseMatrix([[5913., 1452.],\n             [ 378., 1986.]])\nF1 = 0.8659929701230228\nPrecision = 0.9399141630901288\nRecall = 0.8401015228426396\nFPR = 0.1598984771573604\nTPR = 0.8401015228426396\n"
     ]
    }
   ],
   "source": [
    "from pyspark.ml.evaluation import BinaryClassificationEvaluator\n",
    "from pyspark.mllib.evaluation import BinaryClassificationMetrics, MulticlassMetrics\n",
    "\n",
    "def print_performance_metrics(predictions):\n",
    "  # Evaluate model\n",
    "  evaluator = BinaryClassificationEvaluator(rawPredictionCol=\"rawPrediction\")\n",
    "  auc = evaluator.evaluate(predictions, {evaluator.metricName: \"areaUnderROC\"})\n",
    "  aupr = evaluator.evaluate(predictions, {evaluator.metricName: \"areaUnderPR\"})\n",
    "  print(\"auc = {}\".format(auc))\n",
    "  print(\"aupr = {}\".format(aupr))\n",
    "\n",
    "  # get rdd of predictions and labels for mllib eval metrics\n",
    "  predictionAndLabels = predictions.select(\"prediction\",\"label\").rdd\n",
    "\n",
    "  # Instantiate metrics objects\n",
    "  binary_metrics = BinaryClassificationMetrics(predictionAndLabels)\n",
    "  multi_metrics = MulticlassMetrics(predictionAndLabels)\n",
    "\n",
    "  # Area under precision-recall curve\n",
    "  print(\"Area under PR = {}\".format(binary_metrics.areaUnderPR))\n",
    "  # Area under ROC curve\n",
    "  print(\"Area under ROC = {}\".format(binary_metrics.areaUnderROC))\n",
    "  # Accuracy\n",
    "  print(\"Accuracy = {}\".format(multi_metrics.accuracy))\n",
    "  # Confusion Matrix\n",
    "  print(multi_metrics.confusionMatrix())\n",
    "  \n",
    "  ### Question 5.1 Answer ###\n",
    "  \n",
    "  # F1\n",
    "  print(\"F1 = {}\".format(multi_metrics.fMeasure(0.0, 1.0)))\n",
    "  # Precision\n",
    "  print(\"Precision = {}\".format(multi_metrics.precision(0.0)))\n",
    "  # Recall\n",
    "  print(\"Recall = {}\".format(multi_metrics.recall(1.0)))\n",
    "  # FPR\n",
    "  print(\"FPR = {}\".format(multi_metrics.falsePositiveRate(0.0)))\n",
    "  # TPR\n",
    "  print(\"TPR = {}\".format(multi_metrics.truePositiveRate(1.0)))\n",
    "                          \n",
    "\n",
    "print_performance_metrics(lrPredictions)"
   ]
  },
  {
   "cell_type": "markdown",
   "metadata": {
    "application/vnd.databricks.v1+cell": {
     "cellMetadata": {},
     "inputWidgets": {},
     "nuid": "54f7eeec-283e-4b05-b521-f955a1241896",
     "showTitle": false,
     "title": ""
    }
   },
   "source": [
    "#### GBM - Evaluate"
   ]
  },
  {
   "cell_type": "code",
   "execution_count": 0,
   "metadata": {
    "application/vnd.databricks.v1+cell": {
     "cellMetadata": {
      "byteLimit": 2048000,
      "rowLimit": 10000
     },
     "inputWidgets": {},
     "nuid": "6a9c215d-c630-4d5c-a299-89df608cae9d",
     "showTitle": false,
     "title": ""
    }
   },
   "outputs": [
    {
     "output_type": "stream",
     "name": "stdout",
     "output_type": "stream",
     "text": [
      "auc = 0.8882019613046112\naupr = 0.7381918868099873\n"
     ]
    },
    {
     "output_type": "stream",
     "name": "stderr",
     "output_type": "stream",
     "text": [
      "/databricks/spark/python/pyspark/sql/context.py:165: FutureWarning: Deprecated in 3.0.0. Use SparkSession.builder.getOrCreate() instead.\n  warnings.warn(\n"
     ]
    },
    {
     "output_type": "stream",
     "name": "stdout",
     "output_type": "stream",
     "text": [
      "Area under PR = 0.6642981711196285\nArea under ROC = 0.5910024260720033\nAccuracy = 0.7997738719292836\nDenseMatrix([[7344.,   21.],\n             [1927.,  437.]])\nF1 = 0.8829045443616255\nPrecision = 0.7921475568978535\nRecall = 0.18485617597292725\nFPR = 0.8151438240270727\nTPR = 0.18485617597292725\n"
     ]
    }
   ],
   "source": [
    "print_performance_metrics(gbPredictions)"
   ]
  },
  {
   "cell_type": "markdown",
   "metadata": {
    "application/vnd.databricks.v1+cell": {
     "cellMetadata": {},
     "inputWidgets": {},
     "nuid": "5ff42b17-5fb7-4a88-9134-20d696962042",
     "showTitle": false,
     "title": ""
    }
   },
   "source": [
    "## Cross Validation"
   ]
  },
  {
   "cell_type": "markdown",
   "metadata": {
    "application/vnd.databricks.v1+cell": {
     "cellMetadata": {},
     "inputWidgets": {},
     "nuid": "e2a0c2ef-74f4-4f80-ad2c-6aa101526ba2",
     "showTitle": false,
     "title": ""
    }
   },
   "source": [
    "For each model you can run the below comand to see its params and a brief explanation of each."
   ]
  },
  {
   "cell_type": "code",
   "execution_count": 0,
   "metadata": {
    "application/vnd.databricks.v1+cell": {
     "cellMetadata": {
      "byteLimit": 2048000,
      "rowLimit": 10000
     },
     "inputWidgets": {},
     "nuid": "fe481aea-cf00-4f3f-8806-438d54938f3e",
     "showTitle": false,
     "title": ""
    }
   },
   "outputs": [
    {
     "output_type": "stream",
     "name": "stdout",
     "output_type": "stream",
     "text": [
      "aggregationDepth: suggested depth for treeAggregate (>= 2). (default: 2)\nelasticNetParam: the ElasticNet mixing parameter, in range [0, 1]. For alpha = 0, the penalty is an L2 penalty. For alpha = 1, it is an L1 penalty. (default: 0.0)\nfamily: The name of family which is a description of the label distribution to be used in the model. Supported options: auto, binomial, multinomial (default: auto)\nfeaturesCol: features column name. (default: features, current: features)\nfitIntercept: whether to fit an intercept term. (default: True)\nlabelCol: label column name. (default: label, current: label)\nlowerBoundsOnCoefficients: The lower bounds on coefficients if fitting under bound constrained optimization. The bound matrix must be compatible with the shape (1, number of features) for binomial regression, or (number of classes, number of features) for multinomial regression. (undefined)\nlowerBoundsOnIntercepts: The lower bounds on intercepts if fitting under bound constrained optimization. The bounds vector size must beequal with 1 for binomial regression, or the number oflasses for multinomial regression. (undefined)\nmaxBlockSizeInMB: maximum memory in MB for stacking input data into blocks. Data is stacked within partitions. If more than remaining data size in a partition then it is adjusted to the data size. Default 0.0 represents choosing optimal value, depends on specific algorithm. Must be >= 0. (default: 0.0)\nmaxIter: max number of iterations (>= 0). (default: 100, current: 10)\npredictionCol: prediction column name. (default: prediction)\nprobabilityCol: Column name for predicted class conditional probabilities. Note: Not all models output well-calibrated probability estimates! These probabilities should be treated as confidences, not precise probabilities. (default: probability)\nrawPredictionCol: raw prediction (a.k.a. confidence) column name. (default: rawPrediction)\nregParam: regularization parameter (>= 0). (default: 0.0)\nstandardization: whether to standardize the training features before fitting the model. (default: True)\nthreshold: Threshold in binary classification prediction, in range [0, 1]. If threshold and thresholds are both set, they must match.e.g. if threshold is p, then thresholds must be equal to [1-p, p]. (default: 0.5, current: 0.2398931277648811)\nthresholds: Thresholds in multi-class classification to adjust the probability of predicting each class. Array must have length equal to the number of classes, with values > 0, excepting that at most one value may be 0. The class with largest value p/t is predicted, where p is the original probability of that class and t is the class's threshold. (undefined)\ntol: the convergence tolerance for iterative algorithms (>= 0). (default: 1e-06)\nupperBoundsOnCoefficients: The upper bounds on coefficients if fitting under bound constrained optimization. The bound matrix must be compatible with the shape (1, number of features) for binomial regression, or (number of classes, number of features) for multinomial regression. (undefined)\nupperBoundsOnIntercepts: The upper bounds on intercepts if fitting under bound constrained optimization. The bound vector size must be equal with 1 for binomial regression, or the number of classes for multinomial regression. (undefined)\nweightCol: weight column name. If this is not set or empty, we treat all instance weights as 1.0. (undefined)\n"
     ]
    }
   ],
   "source": [
    "print(lr.explainParams())"
   ]
  },
  {
   "cell_type": "code",
   "execution_count": 0,
   "metadata": {
    "application/vnd.databricks.v1+cell": {
     "cellMetadata": {
      "byteLimit": 2048000,
      "rowLimit": 10000
     },
     "inputWidgets": {},
     "nuid": "e9749f67-ceed-4642-a668-27d6ff4c0130",
     "showTitle": false,
     "title": ""
    }
   },
   "outputs": [
    {
     "output_type": "stream",
     "name": "stdout",
     "output_type": "stream",
     "text": [
      "cacheNodeIds: If false, the algorithm will pass trees to executors to match instances with nodes. If true, the algorithm will cache node IDs for each instance. Caching can speed up training of deeper trees. Users can set how often should the cache be checkpointed or disable it by setting checkpointInterval. (default: False)\ncheckpointInterval: set checkpoint interval (>= 1) or disable checkpoint (-1). E.g. 10 means that the cache will get checkpointed every 10 iterations. Note: this setting will be ignored if the checkpoint directory is not set in the SparkContext. (default: 10)\nfeatureSubsetStrategy: The number of features to consider for splits at each tree node. Supported options: 'auto' (choose automatically for task: If numTrees == 1, set to 'all'. If numTrees > 1 (forest), set to 'sqrt' for classification and to 'onethird' for regression), 'all' (use all features), 'onethird' (use 1/3 of the features), 'sqrt' (use sqrt(number of features)), 'log2' (use log2(number of features)), 'n' (when n is in the range (0, 1.0], use n * number of features. When n is in the range (1, number of features), use n features). default = 'auto' (default: all)\nfeaturesCol: features column name. (default: features, current: features)\nimpurity: Criterion used for information gain calculation (case-insensitive). Supported options: variance (default: variance)\nlabelCol: label column name. (default: label, current: label)\nleafCol: Leaf indices column name. Predicted leaf index of each instance in each tree by preorder. (default: )\nlossType: Loss function which GBT tries to minimize (case-insensitive). Supported options: logistic (default: logistic)\nmaxBins: Max number of bins for discretizing continuous features.  Must be >=2 and >= number of categories for any categorical feature. (default: 32)\nmaxDepth: Maximum depth of the tree. (>= 0) E.g., depth 0 means 1 leaf node; depth 1 means 1 internal node + 2 leaf nodes. Must be in range [0, 30]. (default: 5, current: 2)\nmaxIter: max number of iterations (>= 0). (default: 20, current: 10)\nmaxMemoryInMB: Maximum memory in MB allocated to histogram aggregation. If too small, then 1 node will be split per iteration, and its aggregates may exceed this size. (default: 256)\nminInfoGain: Minimum information gain for a split to be considered at a tree node. (default: 0.0)\nminInstancesPerNode: Minimum number of instances each child must have after split. If a split causes the left or right child to have fewer than minInstancesPerNode, the split will be discarded as invalid. Should be >= 1. (default: 1)\nminWeightFractionPerNode: Minimum fraction of the weighted sample count that each child must have after split. If a split causes the fraction of the total weight in the left or right child to be less than minWeightFractionPerNode, the split will be discarded as invalid. Should be in interval [0.0, 0.5). (default: 0.0)\npredictionCol: prediction column name. (default: prediction)\nprobabilityCol: Column name for predicted class conditional probabilities. Note: Not all models output well-calibrated probability estimates! These probabilities should be treated as confidences, not precise probabilities. (default: probability)\nrawPredictionCol: raw prediction (a.k.a. confidence) column name. (default: rawPrediction)\nseed: random seed. (default: 3504127614838123891, current: 42)\nstepSize: Step size (a.k.a. learning rate) in interval (0, 1] for shrinking the contribution of each estimator. (default: 0.1)\nsubsamplingRate: Fraction of the training data used for learning each decision tree, in range (0, 1]. (default: 1.0)\nthresholds: Thresholds in multi-class classification to adjust the probability of predicting each class. Array must have length equal to the number of classes, with values > 0, excepting that at most one value may be 0. The class with largest value p/t is predicted, where p is the original probability of that class and t is the class's threshold. (undefined)\nvalidationIndicatorCol: name of the column that indicates whether each row is for training or for validation. False indicates training; true indicates validation. (undefined)\nvalidationTol: Threshold for stopping early when fit with validation is used. If the error rate on the validation input changes by less than the validationTol, then learning will stop early (before `maxIter`). This parameter is ignored when fit without validation is used. (default: 0.01)\nweightCol: weight column name. If this is not set or empty, we treat all instance weights as 1.0. (undefined)\n"
     ]
    }
   ],
   "source": [
    "print(gb.explainParams())"
   ]
  },
  {
   "cell_type": "markdown",
   "metadata": {
    "application/vnd.databricks.v1+cell": {
     "cellMetadata": {},
     "inputWidgets": {},
     "nuid": "92a3b7ad-fc37-491b-b557-b8f94a1437a3",
     "showTitle": false,
     "title": ""
    }
   },
   "source": [
    "#### Logisitic Regression - Param Grid"
   ]
  },
  {
   "cell_type": "code",
   "execution_count": 0,
   "metadata": {
    "application/vnd.databricks.v1+cell": {
     "cellMetadata": {
      "byteLimit": 2048000,
      "rowLimit": 10000
     },
     "inputWidgets": {},
     "nuid": "22cdf279-d60b-4338-8ec1-3ff839cd71f1",
     "showTitle": false,
     "title": ""
    }
   },
   "outputs": [],
   "source": [
    "from pyspark.ml.tuning import ParamGridBuilder, CrossValidator\n",
    "\n",
    "# Create ParamGrid for Cross Validation\n",
    "lrParamGrid = (ParamGridBuilder()\n",
    "             .addGrid(lr.regParam, [0.01, 0.5, 2.0])\n",
    "             .addGrid(lr.elasticNetParam, [0.0, 0.5, 1.0])\n",
    "             .addGrid(lr.maxIter, [2, 5])\n",
    "             .build())"
   ]
  },
  {
   "cell_type": "markdown",
   "metadata": {
    "application/vnd.databricks.v1+cell": {
     "cellMetadata": {},
     "inputWidgets": {},
     "nuid": "fdb6d329-4f4e-4ca6-a6fe-578a10b430ae",
     "showTitle": false,
     "title": ""
    }
   },
   "source": [
    "#### GBM - Param Grid"
   ]
  },
  {
   "cell_type": "markdown",
   "metadata": {
    "application/vnd.databricks.v1+cell": {
     "cellMetadata": {},
     "inputWidgets": {},
     "nuid": "4c5377e2-0344-4a1a-b2c2-1d30d71f64fb",
     "showTitle": false,
     "title": ""
    }
   },
   "source": [
    "#### <span style=\"color:darkblue\">Question 6</span>\n",
    "\n",
    "1. Build out a param grid for the gb model, call it 'gbParamGrid'."
   ]
  },
  {
   "cell_type": "code",
   "execution_count": 0,
   "metadata": {
    "application/vnd.databricks.v1+cell": {
     "cellMetadata": {
      "byteLimit": 2048000,
      "rowLimit": 10000
     },
     "inputWidgets": {},
     "nuid": "a7ec194a-603c-4f02-8957-8500986962f8",
     "showTitle": false,
     "title": ""
    }
   },
   "outputs": [],
   "source": [
    "### Question 6.1 Answer ###\n",
    "\n",
    "# Create ParamGrid for Cross Validation\n",
    "gbParamGrid = (ParamGridBuilder()\n",
    "             .addGrid(gb.maxDepth, [5, 10, 15])\n",
    "             .addGrid(lr.maxIter, [2, 5])\n",
    "             .build())"
   ]
  },
  {
   "cell_type": "markdown",
   "metadata": {
    "application/vnd.databricks.v1+cell": {
     "cellMetadata": {},
     "inputWidgets": {},
     "nuid": "0d3ae384-ff89-410f-a46b-c08b142c1ace",
     "showTitle": false,
     "title": ""
    }
   },
   "source": [
    "#### Logistic Regression - Perform Cross Validation"
   ]
  },
  {
   "cell_type": "code",
   "execution_count": 0,
   "metadata": {
    "application/vnd.databricks.v1+cell": {
     "cellMetadata": {
      "byteLimit": 2048000,
      "rowLimit": 10000
     },
     "inputWidgets": {},
     "nuid": "d9a6e329-21c3-4e80-ace5-47e4487fd763",
     "showTitle": false,
     "title": ""
    }
   },
   "outputs": [],
   "source": [
    "# set up an evaluator\n",
    "evaluator = BinaryClassificationEvaluator(rawPredictionCol=\"rawPrediction\")\n",
    "\n",
    "# Create CrossValidator\n",
    "lrCv = CrossValidator(estimator=lr, estimatorParamMaps=lrParamGrid, evaluator=evaluator, numFolds=2)\n",
    "\n",
    "# Run cross validations\n",
    "lrCvModel = lrCv.fit(trainingData)\n",
    "# this will likely take a fair amount of time because of the amount of models that we're creating and testing"
   ]
  },
  {
   "cell_type": "code",
   "execution_count": 0,
   "metadata": {
    "application/vnd.databricks.v1+cell": {
     "cellMetadata": {
      "byteLimit": 2048000,
      "rowLimit": 10000
     },
     "inputWidgets": {},
     "nuid": "09f8e0d6-743b-44fd-af6b-27a8f0d3ac0a",
     "showTitle": false,
     "title": ""
    }
   },
   "outputs": [
    {
     "output_type": "stream",
     "name": "stdout",
     "output_type": "stream",
     "text": [
      "0.01\n0.0\n5\n"
     ]
    }
   ],
   "source": [
    "# below approach to getting at the best params from the best cv model taken from:\n",
    "# https://stackoverflow.com/a/46353730/1919374\n",
    "\n",
    "# look at best params from the CV\n",
    "print(lrCvModel.bestModel._java_obj.getRegParam())\n",
    "print(lrCvModel.bestModel._java_obj.getElasticNetParam())\n",
    "print(lrCvModel.bestModel._java_obj.getMaxIter())"
   ]
  },
  {
   "cell_type": "markdown",
   "metadata": {
    "application/vnd.databricks.v1+cell": {
     "cellMetadata": {},
     "inputWidgets": {},
     "nuid": "862275fa-d958-4709-a625-856c411a1676",
     "showTitle": false,
     "title": ""
    }
   },
   "source": [
    "#### GBM - Perform Cross Validation"
   ]
  },
  {
   "cell_type": "markdown",
   "metadata": {
    "application/vnd.databricks.v1+cell": {
     "cellMetadata": {},
     "inputWidgets": {},
     "nuid": "27304590-ab5f-4278-bc20-cf4494a3c325",
     "showTitle": false,
     "title": ""
    }
   },
   "source": [
    "#### <span style=\"color:darkblue\">Question 7</span>\n",
    "1. Perform cross validation of params on your 'gb' model.\n",
    "1. Print out the best params you found."
   ]
  },
  {
   "cell_type": "code",
   "execution_count": 0,
   "metadata": {
    "application/vnd.databricks.v1+cell": {
     "cellMetadata": {
      "byteLimit": 2048000,
      "rowLimit": 10000
     },
     "inputWidgets": {},
     "nuid": "d2de539e-b60c-48ac-a0c9-123afd383080",
     "showTitle": false,
     "title": ""
    }
   },
   "outputs": [],
   "source": [
    "### Question 7.1 Answer ###\n",
    "\n",
    "# Create CrossValidator\n",
    "gbCv = CrossValidator(estimator=gb, estimatorParamMaps=gbParamGrid, evaluator=evaluator, numFolds=2)\n",
    "\n",
    "# Run cross validations\n",
    "gbCvModel = gbCv.fit(trainingData)"
   ]
  },
  {
   "cell_type": "code",
   "execution_count": 0,
   "metadata": {
    "application/vnd.databricks.v1+cell": {
     "cellMetadata": {
      "byteLimit": 2048000,
      "rowLimit": 10000
     },
     "inputWidgets": {},
     "nuid": "ff1beac2-df5c-4c26-921b-ef3e89b00637",
     "showTitle": false,
     "title": ""
    }
   },
   "outputs": [
    {
     "output_type": "stream",
     "name": "stdout",
     "output_type": "stream",
     "text": [
      "5\n10\n"
     ]
    }
   ],
   "source": [
    "### Question 7.2 Answer ###\n",
    "\n",
    "# look at best params from the CV\n",
    "print(gbCvModel.bestModel._java_obj.getMaxDepth())\n",
    "print(gbCvModel.bestModel._java_obj.getMaxIter())"
   ]
  },
  {
   "cell_type": "markdown",
   "metadata": {
    "application/vnd.databricks.v1+cell": {
     "cellMetadata": {},
     "inputWidgets": {},
     "nuid": "38bc7308-daa4-4cf8-93a9-d76d55ea00ed",
     "showTitle": false,
     "title": ""
    }
   },
   "source": [
    "#### Logistic Regression - CV Model Predict"
   ]
  },
  {
   "cell_type": "code",
   "execution_count": 0,
   "metadata": {
    "application/vnd.databricks.v1+cell": {
     "cellMetadata": {
      "byteLimit": 2048000,
      "rowLimit": 10000
     },
     "inputWidgets": {},
     "nuid": "bc008a69-befb-4bd8-af00-f678223443fd",
     "showTitle": false,
     "title": ""
    }
   },
   "outputs": [
    {
     "output_type": "stream",
     "name": "stdout",
     "output_type": "stream",
     "text": [
      "+-----+--------------------+----+---------+--------+---------+-------------+-------------------+---------------+------------+------+-----+------------+------------+--------------+--------------+------+--------------------+--------------------+----------+\n|label|            features| age|workclass|  fnlwgt|education|education_num|     marital_status|     occupation|relationship|  race|  sex|capital_gain|capital_loss|hours_per_week|native_country|income|       rawPrediction|         probability|prediction|\n+-----+--------------------+----+---------+--------+---------+-------------+-------------------+---------------+------------+------+-----+------------+------------+--------------+--------------+------+--------------------+--------------------+----------+\n|  0.0|(100,[0,8,23,29,4...|36.0|  Private|370767.0|  HS-grad|          9.0| Married-civ-spouse| Prof-specialty|     Husband| White| Male|         0.0|      2377.0|          60.0| United-States| <=50K|[-1.2303954581378...|[0.22611221880218...|       1.0|\n|  0.0|(100,[0,8,23,29,4...|32.0|  Private|131224.0|  HS-grad|          9.0| Married-civ-spouse| Prof-specialty|     Husband| White| Male|         0.0|         0.0|          40.0| United-States| <=50K|[0.80153484645785...|[0.69030270389944...|       1.0|\n|  0.0|(100,[0,8,23,29,4...|33.0|  Private|279173.0|  HS-grad|          9.0| Married-civ-spouse| Prof-specialty|     Husband| White| Male|         0.0|         0.0|          60.0| United-States| <=50K|[0.19070464539119...|[0.54753219331881...|       1.0|\n|  0.0|(100,[0,8,23,29,4...|39.0|  Private| 50700.0|  HS-grad|          9.0| Married-civ-spouse| Prof-specialty|     Husband| White| Male|         0.0|         0.0|          40.0| United-States| <=50K|[0.70546431253823...|[0.66939816520168...|       1.0|\n|  0.0|(100,[0,8,23,29,4...|39.0|  Private|181705.0|  HS-grad|          9.0| Married-civ-spouse| Prof-specialty|     Husband| White| Male|         0.0|         0.0|          45.0| United-States| <=50K|[0.50136311657300...|[0.62277961514325...|       1.0|\n+-----+--------------------+----+---------+--------+---------+-------------+-------------------+---------------+------------+------+-----+------------+------------+--------------+--------------+------+--------------------+--------------------+----------+\nonly showing top 5 rows\n\n"
     ]
    }
   ],
   "source": [
    "# Use test set to measure the accuracy of our model on new data\n",
    "lrCvPredictions = lrCvModel.transform(testData)\n",
    "\n",
    "display(lrCvPredictions.show(5))"
   ]
  },
  {
   "cell_type": "markdown",
   "metadata": {
    "application/vnd.databricks.v1+cell": {
     "cellMetadata": {},
     "inputWidgets": {},
     "nuid": "8c7cd83f-d264-42e1-8cf4-bba7ffcbb424",
     "showTitle": false,
     "title": ""
    }
   },
   "source": [
    "#### GBM - CV Model Predict"
   ]
  },
  {
   "cell_type": "code",
   "execution_count": 0,
   "metadata": {
    "application/vnd.databricks.v1+cell": {
     "cellMetadata": {
      "byteLimit": 2048000,
      "rowLimit": 10000
     },
     "inputWidgets": {},
     "nuid": "74312c33-1e7d-4a1d-ad44-84ddbc5d1d6e",
     "showTitle": false,
     "title": ""
    }
   },
   "outputs": [
    {
     "output_type": "stream",
     "name": "stdout",
     "output_type": "stream",
     "text": [
      "+-----+--------------------+----+---------+--------+---------+-------------+-------------------+---------------+------------+------+-----+------------+------------+--------------+--------------+------+--------------------+--------------------+----------+\n|label|            features| age|workclass|  fnlwgt|education|education_num|     marital_status|     occupation|relationship|  race|  sex|capital_gain|capital_loss|hours_per_week|native_country|income|       rawPrediction|         probability|prediction|\n+-----+--------------------+----+---------+--------+---------+-------------+-------------------+---------------+------------+------+-----+------------+------------+--------------+--------------+------+--------------------+--------------------+----------+\n|  0.0|(100,[0,8,23,29,4...|36.0|  Private|370767.0|  HS-grad|          9.0| Married-civ-spouse| Prof-specialty|     Husband| White| Male|         0.0|      2377.0|          60.0| United-States| <=50K|[-0.5570715872092...|[0.24709927991613...|       1.0|\n|  0.0|(100,[0,8,23,29,4...|32.0|  Private|131224.0|  HS-grad|          9.0| Married-civ-spouse| Prof-specialty|     Husband| White| Male|         0.0|         0.0|          40.0| United-States| <=50K|[0.53806095484381...|[0.74575938945286...|       0.0|\n|  0.0|(100,[0,8,23,29,4...|33.0|  Private|279173.0|  HS-grad|          9.0| Married-civ-spouse| Prof-specialty|     Husband| White| Male|         0.0|         0.0|          60.0| United-States| <=50K|[0.37316544710485...|[0.67837869434594...|       0.0|\n|  0.0|(100,[0,8,23,29,4...|39.0|  Private| 50700.0|  HS-grad|          9.0| Married-civ-spouse| Prof-specialty|     Husband| White| Male|         0.0|         0.0|          40.0| United-States| <=50K|[0.33867887572842...|[0.66314872000233...|       0.0|\n|  0.0|(100,[0,8,23,29,4...|39.0|  Private|181705.0|  HS-grad|          9.0| Married-civ-spouse| Prof-specialty|     Husband| White| Male|         0.0|         0.0|          45.0| United-States| <=50K|[0.27537337260179...|[0.63430882424559...|       0.0|\n+-----+--------------------+----+---------+--------+---------+-------------+-------------------+---------------+------------+------+-----+------------+------------+--------------+--------------+------+--------------------+--------------------+----------+\nonly showing top 5 rows\n\n"
     ]
    }
   ],
   "source": [
    "gbCvPredictions = gbCvModel.transform(testData)\n",
    "\n",
    "display(gbCvPredictions.show(5))"
   ]
  },
  {
   "cell_type": "markdown",
   "metadata": {
    "application/vnd.databricks.v1+cell": {
     "cellMetadata": {},
     "inputWidgets": {},
     "nuid": "27f31423-0241-4280-9160-af7c91344462",
     "showTitle": false,
     "title": ""
    }
   },
   "source": [
    "#### Logistic Regression - CV Model Evaluate"
   ]
  },
  {
   "cell_type": "code",
   "execution_count": 0,
   "metadata": {
    "application/vnd.databricks.v1+cell": {
     "cellMetadata": {
      "byteLimit": 2048000,
      "rowLimit": 10000
     },
     "inputWidgets": {},
     "nuid": "eebb8cf1-dbf3-4530-99e0-8ad5bf6c52dc",
     "showTitle": false,
     "title": ""
    }
   },
   "outputs": [
    {
     "output_type": "stream",
     "name": "stdout",
     "output_type": "stream",
     "text": [
      "auc = 0.8970633845772201\naupr = 0.7460869514036187\n"
     ]
    },
    {
     "output_type": "stream",
     "name": "stderr",
     "output_type": "stream",
     "text": [
      "/databricks/spark/python/pyspark/sql/context.py:165: FutureWarning: Deprecated in 3.0.0. Use SparkSession.builder.getOrCreate() instead.\n  warnings.warn(\n"
     ]
    },
    {
     "output_type": "stream",
     "name": "stdout",
     "output_type": "stream",
     "text": [
      "Area under PR = 0.5330158297497791\nArea under ROC = 0.8134734010841509\nAccuracy = 0.799568300955905\nDenseMatrix([[5792., 1573.],\n             [ 377., 1987.]])\nF1 = 0.8559184276636619\nPrecision = 0.9388879883287404\nRecall = 0.8405245346869712\nFPR = 0.15947546531302875\nTPR = 0.8405245346869712\n"
     ]
    }
   ],
   "source": [
    "print_performance_metrics(lrCvPredictions)"
   ]
  },
  {
   "cell_type": "markdown",
   "metadata": {
    "application/vnd.databricks.v1+cell": {
     "cellMetadata": {},
     "inputWidgets": {},
     "nuid": "348f2c68-9219-4f27-8648-5deefe1c37b3",
     "showTitle": false,
     "title": ""
    }
   },
   "source": [
    "#### GBM - CV Model Evaluate"
   ]
  },
  {
   "cell_type": "code",
   "execution_count": 0,
   "metadata": {
    "application/vnd.databricks.v1+cell": {
     "cellMetadata": {},
     "inputWidgets": {},
     "nuid": "75de418d-e593-4421-9f44-6e1f8ad33fce",
     "showTitle": false,
     "title": ""
    }
   },
   "outputs": [
    {
     "output_type": "display_data",
     "data": {
      "text/html": [
       "<style scoped>\n",
       "  .ansiout {\n",
       "    display: block;\n",
       "    unicode-bidi: embed;\n",
       "    white-space: pre-wrap;\n",
       "    word-wrap: break-word;\n",
       "    word-break: break-all;\n",
       "    font-family: \"Source Code Pro\", \"Menlo\", monospace;;\n",
       "    font-size: 13px;\n",
       "    color: #555;\n",
       "    margin-left: 4px;\n",
       "    line-height: 19px;\n",
       "  }\n",
       "</style>\n",
       "<div class=\"ansiout\">auc = 0.8989499756467929\n",
       "aupr = 0.7665167913162426\n",
       "Area under PR = 0.6435054710769732\n",
       "Area under ROC = 0.7508083832335329\n",
       "Accuracy = 0.8484006993726216\n",
       "DenseMatrix([[ 6919.,   429.],\n",
       "             [ 1045.,  1330.]])\n",
       "F1 = 0.8401553392826959\n",
       "Precision = 0.8412623026104288\n",
       "Recall = 0.8484006993726216\n",
       "FPR = 0.34678393290555576\n",
       "TPR = 0.8484006993726216\n",
       "</div>"
      ]
     },
     "metadata": {},
     "output_type": "display_data"
    }
   ],
   "source": [
    "print_performance_metrics(gbCvPredictions)"
   ]
  },
  {
   "cell_type": "markdown",
   "metadata": {
    "application/vnd.databricks.v1+cell": {
     "cellMetadata": {},
     "inputWidgets": {},
     "nuid": "d727e386-1e0a-4bd0-92d1-70b32cdf71d9",
     "showTitle": false,
     "title": ""
    }
   },
   "source": [
    "#### Logistic Regression - Model Explore"
   ]
  },
  {
   "cell_type": "code",
   "execution_count": 0,
   "metadata": {
    "application/vnd.databricks.v1+cell": {
     "cellMetadata": {
      "byteLimit": 2048000,
      "rowLimit": 10000
     },
     "inputWidgets": {},
     "nuid": "2effd2a1-66af-47be-bcdf-bf111bace1f1",
     "showTitle": false,
     "title": ""
    }
   },
   "outputs": [
    {
     "output_type": "stream",
     "name": "stdout",
     "output_type": "stream",
     "text": [
      "Model Intercept:  -5.9821391466705025\n"
     ]
    }
   ],
   "source": [
    "print('Model Intercept: ', lrCvModel.bestModel.intercept)"
   ]
  },
  {
   "cell_type": "code",
   "execution_count": 0,
   "metadata": {
    "application/vnd.databricks.v1+cell": {
     "cellMetadata": {
      "byteLimit": 2048000,
      "rowLimit": 10000
     },
     "inputWidgets": {},
     "nuid": "9433e6df-ba41-4eb1-a809-63d519752bf7",
     "showTitle": false,
     "title": ""
    }
   },
   "outputs": [
    {
     "output_type": "display_data",
     "data": {
      "text/html": [
       "<style scoped>\n",
       "  .table-result-container {\n",
       "    max-height: 300px;\n",
       "    overflow: auto;\n",
       "  }\n",
       "  table, th, td {\n",
       "    border: 1px solid black;\n",
       "    border-collapse: collapse;\n",
       "  }\n",
       "  th, td {\n",
       "    padding: 5px;\n",
       "  }\n",
       "  th {\n",
       "    text-align: left;\n",
       "  }\n",
       "</style><div class='table-result-container'><table class='table-result'><thead style='background-color: white'><tr><th>Feature Weight</th></tr></thead><tbody><tr><td>0.10728563291425162</td></tr><tr><td>-0.2961958701513941</td></tr><tr><td>-0.08240276890450877</td></tr><tr><td>-0.2781053241320957</td></tr><tr><td>-0.17741325409202524</td></tr><tr><td>0.3883038764029745</td></tr><tr><td>0.447508064612638</td></tr><tr><td>-1.8866287502815302</td></tr><tr><td>-0.19640038621592631</td></tr><tr><td>-0.0041308974494214746</td></tr><tr><td>0.3817931077161157</td></tr><tr><td>0.6284988311345274</td></tr><tr><td>0.09229260575747907</td></tr><tr><td>-0.550976358418968</td></tr><tr><td>-0.10623104529190863</td></tr><tr><td>-0.4890605013661405</td></tr><tr><td>-0.8678237436203432</td></tr><tr><td>0.9471353729749993</td></tr><tr><td>-0.6519605803614339</td></tr><tr><td>-0.3317698640034675</td></tr><tr><td>0.9584214854045416</td></tr><tr><td>-0.2573593596569983</td></tr><tr><td>-0.3433282171386037</td></tr><tr><td>0.6863392988415774</td></tr><tr><td>-0.6035635180249447</td></tr><tr><td>-0.24572383475327994</td></tr><tr><td>-0.2457249146256414</td></tr><tr><td>-0.01719191125818981</td></tr><tr><td>-0.4060146070152623</td></tr><tr><td>0.44010726177208725</td></tr><tr><td>-0.014673306215683685</td></tr><tr><td>0.6405969814782729</td></tr><tr><td>-0.06684124669001947</td></tr><tr><td>0.2139774602448999</td></tr><tr><td>-0.6523999067274737</td></tr><tr><td>-0.3864638791656345</td></tr><tr><td>-0.2777250611103521</td></tr><tr><td>-0.172481566272493</td></tr><tr><td>-0.5695455632302291</td></tr><tr><td>-0.7885204814319976</td></tr><tr><td>0.5208323170805699</td></tr><tr><td>0.403433660895344</td></tr><tr><td>-0.6974774212004072</td></tr><tr><td>0.5053398694433434</td></tr><tr><td>-0.1536681327777101</td></tr><tr><td>-0.62947040804748</td></tr><tr><td>-0.37060908655225616</td></tr><tr><td>1.213321473660665</td></tr><tr><td>0.12139678108007265</td></tr><tr><td>-0.11052394721073272</td></tr><tr><td>0.18959917600630574</td></tr><tr><td>-0.2056147250090643</td></tr><tr><td>0.46912587216278123</td></tr><tr><td>0.21774897067011148</td></tr><tr><td>-0.5689670307845954</td></tr><tr><td>-0.16761780865636497</td></tr><tr><td>0.3066464806374549</td></tr><tr><td>0.5156377462528039</td></tr><tr><td>0.5981711651635365</td></tr><tr><td>-0.13111117060004074</td></tr><tr><td>-0.4215656879297624</td></tr><tr><td>-0.46272012281937824</td></tr><tr><td>0.36064982941322826</td></tr><tr><td>0.18932527585751863</td></tr><tr><td>-0.3246423257408748</td></tr><tr><td>-0.4739278817236144</td></tr><tr><td>-0.4802453426575861</td></tr><tr><td>0.8413627153451679</td></tr><tr><td>-0.7691448588821359</td></tr><tr><td>-1.0109577315309095</td></tr><tr><td>0.31468989338844117</td></tr><tr><td>0.7877498592138686</td></tr><tr><td>-0.7078693061097616</td></tr><tr><td>-1.293521084648497</td></tr><tr><td>0.25517567269057917</td></tr><tr><td>0.18477689759510016</td></tr><tr><td>-0.35099401956277143</td></tr><tr><td>0.4959281085543585</td></tr><tr><td>-0.6052533131837212</td></tr><tr><td>-0.6340342309671774</td></tr><tr><td>-0.046670708144805485</td></tr><tr><td>-2.624536334458272</td></tr><tr><td>0.04025610542520033</td></tr><tr><td>-0.6461338580561099</td></tr><tr><td>0.1836682456172151</td></tr><tr><td>0.2726701934877572</td></tr><tr><td>-0.9658207075692551</td></tr><tr><td>-0.14150300845259572</td></tr><tr><td>0.20161147959179784</td></tr><tr><td>0.27886752962850864</td></tr><tr><td>-1.4496635819694923</td></tr><tr><td>-0.5535152520110531</td></tr><tr><td>0.6134917164991263</td></tr><tr><td>0.11840072805046425</td></tr><tr><td>0.020644038736542806</td></tr><tr><td>6.015316829290395E-7</td></tr><tr><td>0.12085956262993287</td></tr><tr><td>9.511010796712674E-5</td></tr><tr><td>5.486206539138475E-4</td></tr><tr><td>0.025059507568622463</td></tr></tbody></table></div>"
      ]
     },
     "metadata": {
      "application/vnd.databricks.v1+output": {
       "addedWidgets": {},
       "aggData": [],
       "aggError": "",
       "aggOverflow": false,
       "aggSchema": [],
       "aggSeriesLimitReached": false,
       "aggType": "",
       "arguments": {},
       "columnCustomDisplayInfos": {},
       "data": [
        [
         0.10728563291425162
        ],
        [
         -0.2961958701513941
        ],
        [
         -0.08240276890450877
        ],
        [
         -0.2781053241320957
        ],
        [
         -0.17741325409202524
        ],
        [
         0.3883038764029745
        ],
        [
         0.447508064612638
        ],
        [
         -1.8866287502815302
        ],
        [
         -0.19640038621592631
        ],
        [
         -0.0041308974494214746
        ],
        [
         0.3817931077161157
        ],
        [
         0.6284988311345274
        ],
        [
         0.09229260575747907
        ],
        [
         -0.550976358418968
        ],
        [
         -0.10623104529190863
        ],
        [
         -0.4890605013661405
        ],
        [
         -0.8678237436203432
        ],
        [
         0.9471353729749993
        ],
        [
         -0.6519605803614339
        ],
        [
         -0.3317698640034675
        ],
        [
         0.9584214854045416
        ],
        [
         -0.2573593596569983
        ],
        [
         -0.3433282171386037
        ],
        [
         0.6863392988415774
        ],
        [
         -0.6035635180249447
        ],
        [
         -0.24572383475327994
        ],
        [
         -0.2457249146256414
        ],
        [
         -0.01719191125818981
        ],
        [
         -0.4060146070152623
        ],
        [
         0.44010726177208725
        ],
        [
         -0.014673306215683685
        ],
        [
         0.6405969814782729
        ],
        [
         -0.06684124669001947
        ],
        [
         0.2139774602448999
        ],
        [
         -0.6523999067274737
        ],
        [
         -0.3864638791656345
        ],
        [
         -0.2777250611103521
        ],
        [
         -0.172481566272493
        ],
        [
         -0.5695455632302291
        ],
        [
         -0.7885204814319976
        ],
        [
         0.5208323170805699
        ],
        [
         0.403433660895344
        ],
        [
         -0.6974774212004072
        ],
        [
         0.5053398694433434
        ],
        [
         -0.1536681327777101
        ],
        [
         -0.62947040804748
        ],
        [
         -0.37060908655225616
        ],
        [
         1.213321473660665
        ],
        [
         0.12139678108007265
        ],
        [
         -0.11052394721073272
        ],
        [
         0.18959917600630574
        ],
        [
         -0.2056147250090643
        ],
        [
         0.46912587216278123
        ],
        [
         0.21774897067011148
        ],
        [
         -0.5689670307845954
        ],
        [
         -0.16761780865636497
        ],
        [
         0.3066464806374549
        ],
        [
         0.5156377462528039
        ],
        [
         0.5981711651635365
        ],
        [
         -0.13111117060004074
        ],
        [
         -0.4215656879297624
        ],
        [
         -0.46272012281937824
        ],
        [
         0.36064982941322826
        ],
        [
         0.18932527585751863
        ],
        [
         -0.3246423257408748
        ],
        [
         -0.4739278817236144
        ],
        [
         -0.4802453426575861
        ],
        [
         0.8413627153451679
        ],
        [
         -0.7691448588821359
        ],
        [
         -1.0109577315309095
        ],
        [
         0.31468989338844117
        ],
        [
         0.7877498592138686
        ],
        [
         -0.7078693061097616
        ],
        [
         -1.293521084648497
        ],
        [
         0.25517567269057917
        ],
        [
         0.18477689759510016
        ],
        [
         -0.35099401956277143
        ],
        [
         0.4959281085543585
        ],
        [
         -0.6052533131837212
        ],
        [
         -0.6340342309671774
        ],
        [
         -0.046670708144805485
        ],
        [
         -2.624536334458272
        ],
        [
         0.04025610542520033
        ],
        [
         -0.6461338580561099
        ],
        [
         0.1836682456172151
        ],
        [
         0.2726701934877572
        ],
        [
         -0.9658207075692551
        ],
        [
         -0.14150300845259572
        ],
        [
         0.20161147959179784
        ],
        [
         0.27886752962850864
        ],
        [
         -1.4496635819694923
        ],
        [
         -0.5535152520110531
        ],
        [
         0.6134917164991263
        ],
        [
         0.11840072805046425
        ],
        [
         0.020644038736542806
        ],
        [
         6.015316829290395E-7
        ],
        [
         0.12085956262993287
        ],
        [
         9.511010796712674E-5
        ],
        [
         5.486206539138475E-4
        ],
        [
         0.025059507568622463
        ]
       ],
       "datasetInfos": [],
       "dbfsResultPath": null,
       "isJsonSchema": true,
       "metadata": {},
       "overflow": false,
       "plotOptions": {
        "customPlotOptions": {},
        "displayType": "table",
        "pivotAggregation": null,
        "pivotColumns": null,
        "xColumns": null,
        "yColumns": null
       },
       "removedWidgets": [],
       "schema": [
        {
         "metadata": "{}",
         "name": "Feature Weight",
         "type": "\"double\""
        }
       ],
       "type": "table"
      }
     },
     "output_type": "display_data"
    }
   ],
   "source": [
    "lrWeights = lrCvModel.bestModel.coefficients\n",
    "lrWeights = [(float(w),) for w in lrWeights]  # convert numpy type to float, and to tuple\n",
    "lrWeightsDF = sqlContext.createDataFrame(lrWeights, [\"Feature Weight\"])\n",
    "display(lrWeightsDF)"
   ]
  },
  {
   "cell_type": "markdown",
   "metadata": {
    "application/vnd.databricks.v1+cell": {
     "cellMetadata": {},
     "inputWidgets": {},
     "nuid": "f55ed490-6f20-4a99-890d-b58ab94088c8",
     "showTitle": false,
     "title": ""
    }
   },
   "source": [
    "### Feature Importance"
   ]
  },
  {
   "cell_type": "markdown",
   "metadata": {
    "application/vnd.databricks.v1+cell": {
     "cellMetadata": {},
     "inputWidgets": {},
     "nuid": "fa699ac7-6380-48cc-a5a7-702ffcceaafd",
     "showTitle": false,
     "title": ""
    }
   },
   "source": [
    "#### <span style=\"color:darkblue\">Question 8</span>\n",
    "1. Print out a table of feature_name and feature_coefficient from the Logistic Regression model.\n",
    "<br><br>\n",
    "Hint: Adapt the code from here: https://stackoverflow.com/questions/42935914/how-to-map-features-from-the-output-of-a-vectorassembler-back-to-the-column-name"
   ]
  },
  {
   "cell_type": "code",
   "execution_count": 0,
   "metadata": {
    "application/vnd.databricks.v1+cell": {
     "cellMetadata": {
      "byteLimit": 2048000,
      "rowLimit": 10000
     },
     "inputWidgets": {},
     "nuid": "0df5e9b1-d2f4-469e-8d22-e97b7aa5e422",
     "showTitle": false,
     "title": ""
    }
   },
   "outputs": [],
   "source": [
    "### Question 8.1 Answer ###\n",
    "\n",
    "# from: https://stackoverflow.com/questions/42935914/how-to-map-features-from-the-output-of-a-vectorassembler-back-to-the-column-name\n",
    "\n",
    "from itertools import chain\n",
    " \n",
    "attrs = sorted(\n",
    "    (attr[\"idx\"], attr[\"name\"]) for attr in (chain(*lrCvPredictions\n",
    "        .schema[lrCvModel.bestModel.summary.featuresCol]\n",
    "        .metadata[\"ml_attr\"][\"attrs\"].values())))"
   ]
  },
  {
   "cell_type": "code",
   "execution_count": 0,
   "metadata": {
    "application/vnd.databricks.v1+cell": {
     "cellMetadata": {
      "byteLimit": 2048000,
      "rowLimit": 10000
     },
     "inputWidgets": {},
     "nuid": "3a8b1698-a94e-4240-b991-12c661bdc97e",
     "showTitle": false,
     "title": ""
    }
   },
   "outputs": [
    {
     "output_type": "stream",
     "name": "stdout",
     "output_type": "stream",
     "text": [
      "                                  feature_name  feature_importance\n23  marital_statusclassVec_ Married-civ-spouse            0.253389\n94                                         age            0.182274\n96                               education_num            0.146766\n97                                capital_gain            0.084680\n99                              hours_per_week            0.081475\n..                                         ...                 ...\n62                native_countryclassVec_ Cuba            0.000000\n63             native_countryclassVec_ England            0.000000\n64             native_countryclassVec_ Jamaica            0.000000\n65               native_countryclassVec_ South            0.000000\n50            raceclassVec_ Asian-Pac-Islander            0.000000\n\n[100 rows x 2 columns]\n"
     ]
    }
   ],
   "source": [
    "gbCvFeatureImportance = pd.DataFrame([(name, gbCvModel.bestModel.featureImportances[idx]) for idx, name in attrs],columns=['feature_name','feature_importance'])\n",
    "\n",
    "print(gbCvFeatureImportance.sort_values(by=['feature_importance'],ascending =False))"
   ]
  },
  {
   "cell_type": "markdown",
   "metadata": {
    "application/vnd.databricks.v1+cell": {
     "cellMetadata": {},
     "inputWidgets": {},
     "nuid": "8e25ea4e-a5d9-4c45-9b10-69761217c36c",
     "showTitle": false,
     "title": ""
    }
   },
   "source": [
    "#### <span style=\"color:darkblue\">Question 9</span>\n",
    "1. Build and train a RandomForestClassifier and print out a table of feature importances from it."
   ]
  },
  {
   "cell_type": "code",
   "execution_count": 0,
   "metadata": {
    "application/vnd.databricks.v1+cell": {
     "cellMetadata": {
      "byteLimit": 2048000,
      "rowLimit": 10000
     },
     "inputWidgets": {},
     "nuid": "5aadb1fa-22aa-40c6-af14-d17daa81569a",
     "showTitle": false,
     "title": ""
    }
   },
   "outputs": [
    {
     "output_type": "stream",
     "name": "stdout",
     "output_type": "stream",
     "text": [
      "                                  feature_name  feature_importance\n96                               education_num            0.169529\n23  marital_statusclassVec_ Married-civ-spouse            0.146835\n24       marital_statusclassVec_ Never-married            0.107401\n43               relationshipclassVec_ Husband            0.106423\n97                                capital_gain            0.091609\n..                                         ...                 ...\n74              native_countryclassVec_ Taiwan            0.000000\n75               native_countryclassVec_ Haiti            0.000000\n76                native_countryclassVec_ Iran            0.000000\n77            native_countryclassVec_ Portugal            0.000000\n66               native_countryclassVec_ China            0.000000\n\n[100 rows x 2 columns]\n"
     ]
    }
   ],
   "source": [
    "### Question 9.1 Answer ###\n",
    "\n",
    "from pyspark.ml.classification import RandomForestClassifier\n",
    "\n",
    "rf = RandomForestClassifier(labelCol=\"label\", featuresCol=\"features\")\n",
    "\n",
    "rfModel = rf.fit(trainingData)\n",
    "\n",
    "rfFeatureImportance = pd.DataFrame([(name, rfModel.featureImportances[idx]) for idx, name in attrs],columns=['feature_name','feature_importance'])\n",
    "\n",
    "print(rfFeatureImportance.sort_values(by=['feature_importance'], ascending = False))"
   ]
  }
 ],
 "metadata": {
  "application/vnd.databricks.v1+notebook": {
   "dashboards": [],
   "language": "python",
   "notebookMetadata": {
    "mostRecentlyExecutedCommandWithImplicitDF": {
     "commandId": 4169582467311015,
     "dataframes": [
      "_sqldf"
     ]
    },
    "pythonIndentUnit": 4
   },
   "notebookName": "Mini_Project_Spark_ML",
   "widgets": {}
  },
  "kernelspec": {
   "display_name": "Python 3",
   "language": "python",
   "name": "python3"
  },
  "language_info": {
   "codemirror_mode": {
    "name": "ipython",
    "version": 3
   },
   "file_extension": ".py",
   "mimetype": "text/x-python",
   "name": "python",
   "nbconvert_exporter": "python",
   "pygments_lexer": "ipython3",
   "version": "3.7.6"
  },
  "name": "Spark DF, SQL, ML Exercise",
  "notebookId": 4191519594163685
 },
 "nbformat": 4,
 "nbformat_minor": 0
}
